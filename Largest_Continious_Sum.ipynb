{
  "nbformat": 4,
  "nbformat_minor": 0,
  "metadata": {
    "colab": {
      "name": "Largest Continious Sum.ipynb",
      "provenance": [],
      "collapsed_sections": [],
      "authorship_tag": "ABX9TyPVAd6aq/zopv256QAhYNpG",
      "include_colab_link": true
    },
    "kernelspec": {
      "name": "python3",
      "display_name": "Python 3"
    },
    "language_info": {
      "name": "python"
    }
  },
  "cells": [
    {
      "cell_type": "markdown",
      "metadata": {
        "id": "view-in-github",
        "colab_type": "text"
      },
      "source": [
        "<a href=\"https://colab.research.google.com/github/nkanungo/DataStructure-and-Algorithm/blob/main/Largest_Continious_Sum.ipynb\" target=\"_parent\"><img src=\"https://colab.research.google.com/assets/colab-badge.svg\" alt=\"Open In Colab\"/></a>"
      ]
    },
    {
      "cell_type": "markdown",
      "metadata": {
        "id": "d5IbKUf3mI0Y"
      },
      "source": [
        "This is not a new concept but in most of the forums it's not explained properly. Hence thought of giving an example and solve it \n",
        "\n",
        "Question : What is the Largest Continious Sum in the array given below\n",
        "\n",
        "[1,2,1,3,4,10,10,10,3]\n",
        "\n",
        "Answer :\n",
        "\n",
        "Very simple isn't it ?\n",
        "It's 1+2+1+3+4+10+10+10+3 = 44\n",
        "\n",
        "Now let's make a number negative in it \n",
        "[1,2,1,3,4,10,10,-10,3]\n",
        "\n",
        "It's 1+2+1+3+4+10+10-10+3 = 31 (That's because if you take the last 3 then you must consider the -10 which will lower the largest sum , so both of them are not considered)\n",
        "\n",
        "What if the last two numbers are negative ? Same right ?\n",
        "\n",
        "Now let's make one of the earlier numbers negative and see what happens \n",
        "\n",
        "[1,2,1,-3,4,10,10,-10,3]\n",
        "\n",
        "The answer in this case is 1+2+1-3+4+10+10 = 25 ( In this case we considered -3 as the numbers after it made the sum to go higher \n",
        "\n",
        "Now let's see the code and see if it works as expected \n",
        "\n",
        "\n",
        "\n",
        "\n",
        "\n"
      ]
    },
    {
      "cell_type": "code",
      "metadata": {
        "id": "5lFkIDfNPCAh"
      },
      "source": [
        "def largest_cont_sum(arr):\n",
        "  if len(arr) ==0:\n",
        "    return 0\n",
        "  current_sum = 0\n",
        "  largest_sum =0\n",
        "  for num in arr:\n",
        "    if current_sum >0 : \n",
        "      current_sum = current_sum + num\n",
        "    else:\n",
        "      current_sum = num\n",
        "    if current_sum > largest_sum:\n",
        "      largest_sum = current_sum\n",
        "  return f' largest sum is {largest_sum}'\n"
      ],
      "execution_count": 19,
      "outputs": []
    },
    {
      "cell_type": "code",
      "metadata": {
        "colab": {
          "base_uri": "https://localhost:8080/",
          "height": 35
        },
        "id": "JYg-mlrlqiDk",
        "outputId": "3ed96e41-3702-493e-c2bf-3ae51176def4"
      },
      "source": [
        "arr = [1,2,1,3,4,10,10,10,3]\n",
        "largest_cont_sum(arr)"
      ],
      "execution_count": 20,
      "outputs": [
        {
          "output_type": "execute_result",
          "data": {
            "application/vnd.google.colaboratory.intrinsic+json": {
              "type": "string"
            },
            "text/plain": [
              "' largest sum is 44'"
            ]
          },
          "metadata": {
            "tags": []
          },
          "execution_count": 20
        }
      ]
    },
    {
      "cell_type": "code",
      "metadata": {
        "colab": {
          "base_uri": "https://localhost:8080/",
          "height": 35
        },
        "id": "8Hwwtbf0qqGx",
        "outputId": "f002af93-65fc-4ef2-904c-9cedc200cc11"
      },
      "source": [
        " arr= [1,2,1,3,4,10,10,-10,3]\n",
        " largest_cont_sum(arr)\n"
      ],
      "execution_count": 21,
      "outputs": [
        {
          "output_type": "execute_result",
          "data": {
            "application/vnd.google.colaboratory.intrinsic+json": {
              "type": "string"
            },
            "text/plain": [
              "' largest sum is 31'"
            ]
          },
          "metadata": {
            "tags": []
          },
          "execution_count": 21
        }
      ]
    },
    {
      "cell_type": "code",
      "metadata": {
        "colab": {
          "base_uri": "https://localhost:8080/",
          "height": 35
        },
        "id": "gyJeEP1_qzIG",
        "outputId": "2846114b-454e-45d2-cca8-aa0ed04daefb"
      },
      "source": [
        "arr= [1,2,1,-3,4,10,10,-10,3]\n",
        "largest_cont_sum(arr)"
      ],
      "execution_count": 22,
      "outputs": [
        {
          "output_type": "execute_result",
          "data": {
            "application/vnd.google.colaboratory.intrinsic+json": {
              "type": "string"
            },
            "text/plain": [
              "' largest sum is 25'"
            ]
          },
          "metadata": {
            "tags": []
          },
          "execution_count": 22
        }
      ]
    },
    {
      "cell_type": "markdown",
      "metadata": {
        "id": "XJfZbtVU8JT_"
      },
      "source": [
        "The Below example shows what happens if while adding the digits you get the current sum as negative ?\n",
        "In that case you restart current sum calculation from the next positive digit. This also updates the Total Sum "
      ]
    },
    {
      "cell_type": "code",
      "metadata": {
        "colab": {
          "base_uri": "https://localhost:8080/",
          "height": 35
        },
        "id": "vZndx58I66-R",
        "outputId": "f8eb3b58-8a66-4dce-9fad-8f973d6038ce"
      },
      "source": [
        "arr = [1,2,-4,3,4,10,10,10,3]\n",
        "largest_cont_sum(arr)"
      ],
      "execution_count": 23,
      "outputs": [
        {
          "output_type": "execute_result",
          "data": {
            "application/vnd.google.colaboratory.intrinsic+json": {
              "type": "string"
            },
            "text/plain": [
              "' largest sum is 40'"
            ]
          },
          "metadata": {
            "tags": []
          },
          "execution_count": 23
        }
      ]
    },
    {
      "cell_type": "markdown",
      "metadata": {
        "id": "6MS0IZfh51Wa"
      },
      "source": [
        "Another Way of solving it is mentioned below ."
      ]
    },
    {
      "cell_type": "code",
      "metadata": {
        "id": "MbJxB7xMq73d"
      },
      "source": [
        "def largestContinuousSum(arr):\n",
        "    if len(arr)==0:\n",
        "        return\n",
        "    maxSum=currentSum=arr[0]\n",
        "    for num in arr[1:]:\n",
        "        currentSum=max(currentSum+num, num)\n",
        "        maxSum=max(currentSum, maxSum)\n",
        "    return maxSum"
      ],
      "execution_count": 5,
      "outputs": []
    },
    {
      "cell_type": "code",
      "metadata": {
        "colab": {
          "base_uri": "https://localhost:8080/"
        },
        "id": "gmy0_dT32tBW",
        "outputId": "053d3ee7-7dc0-437b-b9c8-9b6f8da76688"
      },
      "source": [
        "arr= [1,2,1,-3,4,10,10,-10,3]\n",
        "largestContinuousSum(arr)"
      ],
      "execution_count": 6,
      "outputs": [
        {
          "output_type": "execute_result",
          "data": {
            "text/plain": [
              "25"
            ]
          },
          "metadata": {
            "tags": []
          },
          "execution_count": 6
        }
      ]
    },
    {
      "cell_type": "code",
      "metadata": {
        "colab": {
          "base_uri": "https://localhost:8080/"
        },
        "id": "whAlSFo42x0-",
        "outputId": "9e541b77-eee6-470f-a69a-4477e19231d5"
      },
      "source": [
        "arr= [1,2,1,3,4,10,10,-10,3]\n",
        "largestContinuousSum(arr)"
      ],
      "execution_count": 7,
      "outputs": [
        {
          "output_type": "execute_result",
          "data": {
            "text/plain": [
              "31"
            ]
          },
          "metadata": {
            "tags": []
          },
          "execution_count": 7
        }
      ]
    },
    {
      "cell_type": "code",
      "metadata": {
        "colab": {
          "base_uri": "https://localhost:8080/"
        },
        "id": "q5qP1C4x5nvb",
        "outputId": "54e46d92-dd72-41ed-d227-6b437f28912a"
      },
      "source": [
        "arr = [1,2,1,3,4,10,10,10,3]\n",
        "largestContinuousSum(arr)"
      ],
      "execution_count": 9,
      "outputs": [
        {
          "output_type": "execute_result",
          "data": {
            "text/plain": [
              "44"
            ]
          },
          "metadata": {
            "tags": []
          },
          "execution_count": 9
        }
      ]
    },
    {
      "cell_type": "code",
      "metadata": {
        "colab": {
          "base_uri": "https://localhost:8080/"
        },
        "id": "J9hyS1xm5tJI",
        "outputId": "82a509d8-06c5-4bac-b28d-a8f27ef5e771"
      },
      "source": [
        "arr = [1,2,-4,3,4,10,10,10,3]\n",
        "largestContinuousSum(arr)"
      ],
      "execution_count": 12,
      "outputs": [
        {
          "output_type": "execute_result",
          "data": {
            "text/plain": [
              "40"
            ]
          },
          "metadata": {
            "tags": []
          },
          "execution_count": 12
        }
      ]
    },
    {
      "cell_type": "markdown",
      "metadata": {
        "id": "soLsaLJL7uu2"
      },
      "source": [
        "Nihar Kanungo\n",
        "nihar.kanungo@gmail.com"
      ]
    },
    {
      "cell_type": "code",
      "metadata": {
        "id": "9Rsu5Ch96yQa"
      },
      "source": [
        ""
      ],
      "execution_count": null,
      "outputs": []
    }
  ]
}