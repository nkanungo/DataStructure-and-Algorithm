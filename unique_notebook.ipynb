{
  "nbformat": 4,
  "nbformat_minor": 0,
  "metadata": {
    "colab": {
      "name": "unique_notebook.ipynb",
      "provenance": [],
      "authorship_tag": "ABX9TyM71uXkrsBLBkwyWGC3+qH/",
      "include_colab_link": true
    },
    "kernelspec": {
      "name": "python3",
      "display_name": "Python 3"
    },
    "language_info": {
      "name": "python"
    }
  },
  "cells": [
    {
      "cell_type": "markdown",
      "metadata": {
        "id": "view-in-github",
        "colab_type": "text"
      },
      "source": [
        "<a href=\"https://colab.research.google.com/github/nkanungo/DataStructure-and-Algorithm/blob/main/unique_notebook.ipynb\" target=\"_parent\"><img src=\"https://colab.research.google.com/assets/colab-badge.svg\" alt=\"Open In Colab\"/></a>"
      ]
    },
    {
      "cell_type": "markdown",
      "metadata": {
        "id": "QWwsH_er3p6P"
      },
      "source": [
        "If Duplicate letters found then it should respond false, else return True"
      ]
    },
    {
      "cell_type": "code",
      "metadata": {
        "id": "DUpTNiwd3cm5"
      },
      "source": [
        "def find_dup(s):\n",
        "  s = sorted(s)\n",
        "  for i in range(len(s)-1):\n",
        "    if s[i] == s[i+1]:\n",
        "      return False\n",
        "  return True "
      ],
      "execution_count": 13,
      "outputs": []
    },
    {
      "cell_type": "code",
      "metadata": {
        "colab": {
          "base_uri": "https://localhost:8080/"
        },
        "id": "cgSlnKOo4JuU",
        "outputId": "a6b102dc-7c72-4f55-c3c8-4273563ddef4"
      },
      "source": [
        "find_dup('asdfd')"
      ],
      "execution_count": 15,
      "outputs": [
        {
          "output_type": "execute_result",
          "data": {
            "text/plain": [
              "False"
            ]
          },
          "metadata": {
            "tags": []
          },
          "execution_count": 15
        }
      ]
    },
    {
      "cell_type": "code",
      "metadata": {
        "id": "Vj5tqwSi4Pfh"
      },
      "source": [
        "def find_dup(s):\n",
        "  return len(set(s)) == len(s)"
      ],
      "execution_count": 16,
      "outputs": []
    },
    {
      "cell_type": "code",
      "metadata": {
        "colab": {
          "base_uri": "https://localhost:8080/"
        },
        "id": "gR25U2kp5jy-",
        "outputId": "5341ac2e-56d1-4926-ec93-a73ce5b54078"
      },
      "source": [
        "find_dup('asdfd')"
      ],
      "execution_count": 17,
      "outputs": [
        {
          "output_type": "execute_result",
          "data": {
            "text/plain": [
              "False"
            ]
          },
          "metadata": {
            "tags": []
          },
          "execution_count": 17
        }
      ]
    },
    {
      "cell_type": "code",
      "metadata": {
        "colab": {
          "base_uri": "https://localhost:8080/"
        },
        "id": "qKrDeIUT5nRw",
        "outputId": "aab9357e-b916-4826-c4d2-b00b819eac6e"
      },
      "source": [
        "find_dup('asfd')"
      ],
      "execution_count": 18,
      "outputs": [
        {
          "output_type": "execute_result",
          "data": {
            "text/plain": [
              "True"
            ]
          },
          "metadata": {
            "tags": []
          },
          "execution_count": 18
        }
      ]
    },
    {
      "cell_type": "code",
      "metadata": {
        "id": "2HAo9tDM55ej"
      },
      "source": [
        ""
      ],
      "execution_count": null,
      "outputs": []
    }
  ]
}