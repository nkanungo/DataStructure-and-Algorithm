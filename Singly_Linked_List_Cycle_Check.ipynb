{
  "nbformat": 4,
  "nbformat_minor": 0,
  "metadata": {
    "colab": {
      "name": "Singly_Linked_List_Cycle_Check.ipynb",
      "provenance": [],
      "collapsed_sections": [],
      "authorship_tag": "ABX9TyOCXen5sxr22HpetJO4BgpF",
      "include_colab_link": true
    },
    "kernelspec": {
      "name": "python3",
      "display_name": "Python 3"
    },
    "language_info": {
      "name": "python"
    }
  },
  "cells": [
    {
      "cell_type": "markdown",
      "metadata": {
        "id": "view-in-github",
        "colab_type": "text"
      },
      "source": [
        "<a href=\"https://colab.research.google.com/github/nkanungo/DataStructure-and-Algorithm/blob/main/Singly_Linked_List_Cycle_Check.ipynb\" target=\"_parent\"><img src=\"https://colab.research.google.com/assets/colab-badge.svg\" alt=\"Open In Colab\"/></a>"
      ]
    },
    {
      "cell_type": "markdown",
      "metadata": {
        "id": "qBe4vPluhBj3"
      },
      "source": [
        "This exercise uses the concept of singly liked list to generate a cycle. \n",
        "Here is the Logic \n",
        "\n",
        "1. We need to define two variables which would hold the value of the node\n",
        "2. Increase first variable by 1 step and the 2nd variable by 2 steps \n",
        "\n",
        "If there is no cyclic property then the 2nd one will race through to the end \n",
        "However if there are cyclic property then at some time period both will meet at the point and we can identify it .\n"
      ]
    },
    {
      "cell_type": "code",
      "metadata": {
        "id": "rxmwcB1Ayp2k"
      },
      "source": [
        "def cyclic_check(node):\n",
        "\n",
        "  slow_runner = node\n",
        "  fast_runner = node\n",
        "\n",
        "  while fast_runner and fast_runner.nextnode:\n",
        "    fast_runner = fast_runner.nextnode\n",
        "    if slow_runner == fast_runner:\n",
        "      print('Cyclic Check found to be True')\n",
        "      return True    \n",
        "    #print(slow_runner.item, fast_runner.item)\n",
        "    slow_runner = slow_runner.nextnode\n",
        "    fast_runner = fast_runner.nextnode\n",
        "  print('Cyclic Check found to be False')\n",
        "  return False\n"
      ],
      "execution_count": 61,
      "outputs": []
    },
    {
      "cell_type": "code",
      "metadata": {
        "id": "HF6fXBFYgSxd"
      },
      "source": [
        "class node(object):\n",
        "\n",
        "  def __init__(self,item):\n",
        "    self.item = item\n",
        "    self.nextnode = None"
      ],
      "execution_count": 62,
      "outputs": []
    },
    {
      "cell_type": "markdown",
      "metadata": {
        "id": "_Eu3fO4VzlNB"
      },
      "source": [
        "#Testing "
      ]
    },
    {
      "cell_type": "code",
      "metadata": {
        "colab": {
          "base_uri": "https://localhost:8080/"
        },
        "id": "nofXYG6-0EKu",
        "outputId": "d1ded957-5486-46ce-eb95-21e3908b8f6f"
      },
      "source": [
        "!pip install nose"
      ],
      "execution_count": 63,
      "outputs": [
        {
          "output_type": "stream",
          "text": [
            "Requirement already satisfied: nose in /usr/local/lib/python3.7/dist-packages (1.3.7)\n"
          ],
          "name": "stdout"
        }
      ]
    },
    {
      "cell_type": "code",
      "metadata": {
        "colab": {
          "base_uri": "https://localhost:8080/"
        },
        "id": "Z4vSVKm9zlW8",
        "outputId": "c5a98d43-58e2-46da-ff4a-35f42e30ad3d"
      },
      "source": [
        "\"\"\"\n",
        "RUN THIS CELL TO TEST YOUR SOLUTION\n",
        "\"\"\"\n",
        "from nose.tools import assert_equal\n",
        "\n",
        "# CREATE CYCLE LIST\n",
        "a = node(1)\n",
        "b = node(2)\n",
        "c = node(3)\n",
        "\n",
        "a.nextnode = b\n",
        "b.nextnode = c\n",
        "c.nextnode = a # Cycle Here!\n",
        "\n",
        "\n",
        "# CREATE NON CYCLE LIST\n",
        "x = node(1)\n",
        "y = node(2)\n",
        "z = node(3)\n",
        "\n",
        "x.nextnode = y\n",
        "y.nextnode = z\n",
        "\n",
        "\n",
        "#############\n",
        "class TestCycleCheck(object):\n",
        "    \n",
        "    def test(self,sol):\n",
        "        assert_equal(sol(a),True)\n",
        "        assert_equal(sol(x),False)\n",
        "        \n",
        "        print (\"ALL TEST CASES PASSED\")\n",
        "        \n",
        "# Run Tests\n",
        "\n",
        "t = TestCycleCheck()\n",
        "t.test(cyclic_check)"
      ],
      "execution_count": 65,
      "outputs": [
        {
          "output_type": "stream",
          "text": [
            "Cyclic Check found to be True\n",
            "Cyclic Check found to be False\n",
            "ALL TEST CASES PASSED\n"
          ],
          "name": "stdout"
        }
      ]
    },
    {
      "cell_type": "code",
      "metadata": {
        "id": "pn_piga6Hwg9"
      },
      "source": [
        ""
      ],
      "execution_count": 55,
      "outputs": []
    }
  ]
}