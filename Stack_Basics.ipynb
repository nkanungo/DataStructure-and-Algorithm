{
  "nbformat": 4,
  "nbformat_minor": 0,
  "metadata": {
    "colab": {
      "name": "Stack_Basics.ipynb",
      "provenance": [],
      "authorship_tag": "ABX9TyMe6vWy+IFVujuEpy4kPZGy",
      "include_colab_link": true
    },
    "kernelspec": {
      "name": "python3",
      "display_name": "Python 3"
    },
    "language_info": {
      "name": "python"
    }
  },
  "cells": [
    {
      "cell_type": "markdown",
      "metadata": {
        "id": "view-in-github",
        "colab_type": "text"
      },
      "source": [
        "<a href=\"https://colab.research.google.com/github/nkanungo/DataStructure-and-Algorithm/blob/main/Stack_Basics.ipynb\" target=\"_parent\"><img src=\"https://colab.research.google.com/assets/colab-badge.svg\" alt=\"Open In Colab\"/></a>"
      ]
    },
    {
      "cell_type": "markdown",
      "metadata": {
        "id": "utL7R9C5Mh71"
      },
      "source": [
        "Illustrates the Basic operations of Stack "
      ]
    },
    {
      "cell_type": "code",
      "metadata": {
        "id": "Uc7dYUbqMev_"
      },
      "source": [
        "class Stack_Basic(object):\n",
        "  def __init__(self):\n",
        "    self.list = []\n",
        "  \n",
        "  def check_empty(self):\n",
        "    return self.list == []\n",
        "\n",
        "  def push_stack(self,item):\n",
        "    self.list.append(item)\n",
        "  \n",
        "  def pop_stack(self):\n",
        "    self.list.pop()\n",
        "  \n",
        "  def peek_stack(self):\n",
        "    return self.list[len(self.list)-1]\n",
        "  \n",
        "  def __len__(self):\n",
        "    return len(self.list)\n",
        "  \n",
        "  def getsize(self):\n",
        "    return len(self.list)"
      ],
      "execution_count": 23,
      "outputs": []
    },
    {
      "cell_type": "code",
      "metadata": {
        "id": "G1LyTxBPVDZW"
      },
      "source": [
        "st1= Stack_Basic()"
      ],
      "execution_count": 24,
      "outputs": []
    },
    {
      "cell_type": "code",
      "metadata": {
        "colab": {
          "base_uri": "https://localhost:8080/"
        },
        "id": "NPGMv-KbVvps",
        "outputId": "99d0fa9d-c2ec-4bc0-a473-523ae41044d8"
      },
      "source": [
        "st1.check_empty()"
      ],
      "execution_count": 25,
      "outputs": [
        {
          "output_type": "execute_result",
          "data": {
            "text/plain": [
              "True"
            ]
          },
          "metadata": {
            "tags": []
          },
          "execution_count": 25
        }
      ]
    },
    {
      "cell_type": "code",
      "metadata": {
        "id": "jNTrsW4DVyDU"
      },
      "source": [
        "st1.push_stack(5)"
      ],
      "execution_count": 26,
      "outputs": []
    },
    {
      "cell_type": "code",
      "metadata": {
        "id": "tsgyFFVXXJBn"
      },
      "source": [
        "st1.push_stack(10)"
      ],
      "execution_count": 27,
      "outputs": []
    },
    {
      "cell_type": "code",
      "metadata": {
        "colab": {
          "base_uri": "https://localhost:8080/"
        },
        "id": "R6VCxuXRXMK4",
        "outputId": "ac160453-dfed-4e9a-dcc5-e83d25071f1b"
      },
      "source": [
        "st1.getsize()"
      ],
      "execution_count": 28,
      "outputs": [
        {
          "output_type": "execute_result",
          "data": {
            "text/plain": [
              "2"
            ]
          },
          "metadata": {
            "tags": []
          },
          "execution_count": 28
        }
      ]
    },
    {
      "cell_type": "code",
      "metadata": {
        "id": "EdT7yEIkXOPb"
      },
      "source": [
        "st1.pop_stack()"
      ],
      "execution_count": 29,
      "outputs": []
    },
    {
      "cell_type": "code",
      "metadata": {
        "colab": {
          "base_uri": "https://localhost:8080/"
        },
        "id": "vKLTsDtnXsSD",
        "outputId": "a0ca5140-cf9b-4c71-fac8-506163f2c88e"
      },
      "source": [
        "st1.getsize()"
      ],
      "execution_count": 30,
      "outputs": [
        {
          "output_type": "execute_result",
          "data": {
            "text/plain": [
              "1"
            ]
          },
          "metadata": {
            "tags": []
          },
          "execution_count": 30
        }
      ]
    },
    {
      "cell_type": "code",
      "metadata": {
        "id": "8X-jdHJbXuw8"
      },
      "source": [
        "st1.push_stack(10)"
      ],
      "execution_count": 31,
      "outputs": []
    },
    {
      "cell_type": "code",
      "metadata": {
        "colab": {
          "base_uri": "https://localhost:8080/"
        },
        "id": "8RSoi0YDXyxE",
        "outputId": "5f353a90-30be-4c44-eb1c-35a05c168735"
      },
      "source": [
        "st1.peek_stack()"
      ],
      "execution_count": 32,
      "outputs": [
        {
          "output_type": "execute_result",
          "data": {
            "text/plain": [
              "10"
            ]
          },
          "metadata": {
            "tags": []
          },
          "execution_count": 32
        }
      ]
    },
    {
      "cell_type": "code",
      "metadata": {
        "colab": {
          "base_uri": "https://localhost:8080/"
        },
        "id": "NsIaDbWdX0YS",
        "outputId": "89c749fe-21ab-4836-d166-5c595f1b2a89"
      },
      "source": [
        "st1.__len__()"
      ],
      "execution_count": 33,
      "outputs": [
        {
          "output_type": "execute_result",
          "data": {
            "text/plain": [
              "2"
            ]
          },
          "metadata": {
            "tags": []
          },
          "execution_count": 33
        }
      ]
    },
    {
      "cell_type": "code",
      "metadata": {
        "id": "x_PYArAKheIe"
      },
      "source": [
        ""
      ],
      "execution_count": null,
      "outputs": []
    }
  ]
}