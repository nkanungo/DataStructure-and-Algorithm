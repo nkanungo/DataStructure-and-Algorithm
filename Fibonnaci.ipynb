{
  "nbformat": 4,
  "nbformat_minor": 0,
  "metadata": {
    "colab": {
      "name": "Fibonnaci.ipynb",
      "provenance": [],
      "authorship_tag": "ABX9TyPSFFXLp6l0OfBg8/gyBb2Q",
      "include_colab_link": true
    },
    "kernelspec": {
      "name": "python3",
      "display_name": "Python 3"
    },
    "language_info": {
      "name": "python"
    }
  },
  "cells": [
    {
      "cell_type": "markdown",
      "metadata": {
        "id": "view-in-github",
        "colab_type": "text"
      },
      "source": [
        "<a href=\"https://colab.research.google.com/github/nkanungo/DataStructure-and-Algorithm/blob/main/Fibonnaci.ipynb\" target=\"_parent\"><img src=\"https://colab.research.google.com/assets/colab-badge.svg\" alt=\"Open In Colab\"/></a>"
      ]
    },
    {
      "cell_type": "code",
      "metadata": {
        "id": "a9fKFnow99TA"
      },
      "source": [
        "def fib_rec(n):\n",
        "  if n <= 2 :\n",
        "    return 1\n",
        "  else:\n",
        "    return fib_rec(n-1) + fib_rec(n-2)"
      ],
      "execution_count": 24,
      "outputs": []
    },
    {
      "cell_type": "code",
      "metadata": {
        "colab": {
          "base_uri": "https://localhost:8080/"
        },
        "id": "4NIH_8uH-EKu",
        "outputId": "31c877d6-63a8-4ed5-b1ea-529c1e1fa712"
      },
      "source": [
        "\n",
        "fib_rec(10)"
      ],
      "execution_count": 26,
      "outputs": [
        {
          "output_type": "execute_result",
          "data": {
            "text/plain": [
              "55"
            ]
          },
          "metadata": {
            "tags": []
          },
          "execution_count": 26
        }
      ]
    },
    {
      "cell_type": "code",
      "metadata": {
        "id": "YDsbTK-1-Hhm"
      },
      "source": [
        "cache = {}\n",
        "\n",
        "def fib_dyn(n):\n",
        "  if n in cache:\n",
        "    return cache[n]\n",
        "  else:\n",
        "    if n <= 2 :\n",
        "      cache[n] = 1\n",
        "    else:\n",
        "      cache[n] = fib_dyn(n-1) + fib_dyn(n-2)\n",
        "\n",
        "  return cache[n]"
      ],
      "execution_count": 32,
      "outputs": []
    },
    {
      "cell_type": "code",
      "metadata": {
        "colab": {
          "base_uri": "https://localhost:8080/"
        },
        "id": "yNOI37ntE_xG",
        "outputId": "56b598b1-35b6-42ae-a6f6-46737d3c7ed0"
      },
      "source": [
        "fib_dyn(15)"
      ],
      "execution_count": 41,
      "outputs": [
        {
          "output_type": "execute_result",
          "data": {
            "text/plain": [
              "610"
            ]
          },
          "metadata": {
            "tags": []
          },
          "execution_count": 41
        }
      ]
    },
    {
      "cell_type": "code",
      "metadata": {
        "colab": {
          "base_uri": "https://localhost:8080/"
        },
        "id": "1Y8We_4XFD5G",
        "outputId": "f48dc885-8fe0-4014-9be5-53a51caadd10"
      },
      "source": [
        "cache"
      ],
      "execution_count": 42,
      "outputs": [
        {
          "output_type": "execute_result",
          "data": {
            "text/plain": [
              "{1: 1,\n",
              " 2: 1,\n",
              " 3: 2,\n",
              " 4: 3,\n",
              " 5: 5,\n",
              " 6: 8,\n",
              " 7: 13,\n",
              " 8: 21,\n",
              " 9: 34,\n",
              " 10: 55,\n",
              " 11: 89,\n",
              " 12: 144,\n",
              " 13: 233,\n",
              " 14: 377,\n",
              " 15: 610}"
            ]
          },
          "metadata": {
            "tags": []
          },
          "execution_count": 42
        }
      ]
    },
    {
      "cell_type": "code",
      "metadata": {
        "id": "qQH3QTdyME7K"
      },
      "source": [
        "def fib_iter(n):\n",
        "  sum  = 0\n",
        "  for i in range(n+1):\n",
        "    sum  += i \n",
        "  return sum"
      ],
      "execution_count": 56,
      "outputs": []
    },
    {
      "cell_type": "code",
      "metadata": {
        "id": "jJvhZVMib7Pu"
      },
      "source": [
        "def fib_iter(n):\n",
        "    \n",
        "    # Set starting point\n",
        "    a = 0\n",
        "    b = 1\n",
        "    \n",
        "    # Follow algorithm\n",
        "    for i in range(n):\n",
        "        a, b = b, a + b\n",
        "    return a"
      ],
      "execution_count": 59,
      "outputs": []
    },
    {
      "cell_type": "code",
      "metadata": {
        "colab": {
          "base_uri": "https://localhost:8080/"
        },
        "id": "Hl7g8Nm-N6Fa",
        "outputId": "39444a50-cb4f-4e15-ffea-da5912450149"
      },
      "source": [
        "fib_iter(9)"
      ],
      "execution_count": 60,
      "outputs": [
        {
          "output_type": "execute_result",
          "data": {
            "text/plain": [
              "34"
            ]
          },
          "metadata": {
            "tags": []
          },
          "execution_count": 60
        }
      ]
    },
    {
      "cell_type": "code",
      "metadata": {
        "colab": {
          "base_uri": "https://localhost:8080/"
        },
        "id": "iTtPEF5TcD4z",
        "outputId": "03c9e531-b607-4a18-8f50-9936ab0db7de"
      },
      "source": [
        "!pip install nose"
      ],
      "execution_count": 62,
      "outputs": [
        {
          "output_type": "stream",
          "text": [
            "Collecting nose\n",
            "\u001b[?25l  Downloading https://files.pythonhosted.org/packages/15/d8/dd071918c040f50fa1cf80da16423af51ff8ce4a0f2399b7bf8de45ac3d9/nose-1.3.7-py3-none-any.whl (154kB)\n",
            "\u001b[K     |████████████████████████████████| 163kB 4.0MB/s \n",
            "\u001b[?25hInstalling collected packages: nose\n",
            "Successfully installed nose-1.3.7\n"
          ],
          "name": "stdout"
        }
      ]
    },
    {
      "cell_type": "code",
      "metadata": {
        "colab": {
          "base_uri": "https://localhost:8080/"
        },
        "id": "JE7faVcTOAU3",
        "outputId": "25ebdbf2-b46a-48d0-8ba3-abf0502c83fd"
      },
      "source": [
        "\"\"\"\n",
        "UNCOMMENT THE CODE AT THE BOTTOM OF THIS CELL TO SELECT WHICH SOLUTIONS TO TEST.\n",
        "THEN RUN THE CELL.\n",
        "\"\"\"\n",
        "\n",
        "from nose.tools import assert_equal\n",
        "\n",
        "class TestFib(object):\n",
        "    \n",
        "    def test(self,solution):\n",
        "        assert_equal(solution(10),55)\n",
        "        assert_equal(solution(1),1)\n",
        "        assert_equal(solution(23),28657)\n",
        "        print ('Passed all tests.')\n",
        "# UNCOMMENT FOR CORRESPONDING FUNCTION\n",
        "t = TestFib()\n",
        "\n",
        "t.test(fib_rec)\n",
        "t.test(fib_dyn) # Note, will need to reset cache size for each test!\n",
        "t.test(fib_iter)"
      ],
      "execution_count": 64,
      "outputs": [
        {
          "output_type": "stream",
          "text": [
            "Passed all tests.\n",
            "Passed all tests.\n",
            "Passed all tests.\n"
          ],
          "name": "stdout"
        }
      ]
    },
    {
      "cell_type": "code",
      "metadata": {
        "id": "AMeSuvnfcM4g"
      },
      "source": [
        ""
      ],
      "execution_count": null,
      "outputs": []
    }
  ]
}