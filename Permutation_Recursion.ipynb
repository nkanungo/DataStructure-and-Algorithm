{
  "nbformat": 4,
  "nbformat_minor": 0,
  "metadata": {
    "colab": {
      "name": "Permutation_Recursion.ipynb",
      "provenance": [],
      "authorship_tag": "ABX9TyMeg/qKjgDxv9QOoUe1tIVC",
      "include_colab_link": true
    },
    "kernelspec": {
      "name": "python3",
      "display_name": "Python 3"
    },
    "language_info": {
      "name": "python"
    }
  },
  "cells": [
    {
      "cell_type": "markdown",
      "metadata": {
        "id": "view-in-github",
        "colab_type": "text"
      },
      "source": [
        "<a href=\"https://colab.research.google.com/github/nkanungo/DataStructure-and-Algorithm/blob/main/Permutation_Recursion.ipynb\" target=\"_parent\"><img src=\"https://colab.research.google.com/assets/colab-badge.svg\" alt=\"Open In Colab\"/></a>"
      ]
    },
    {
      "cell_type": "code",
      "metadata": {
        "id": "2TUTM1pPqv4p"
      },
      "source": [
        "def permute(s):\n",
        "  \n",
        "  out = []\n",
        "  if bool(s) and len(s) == 1:\n",
        "    out = [s]\n",
        "  else:\n",
        "    for i, let in enumerate(s):\n",
        "      for perm in permute(s[:i] + s[i+1:]):\n",
        "        out += [let+perm]\n",
        "  return out\n"
      ],
      "execution_count": 26,
      "outputs": []
    },
    {
      "cell_type": "code",
      "metadata": {
        "id": "rLMYNnAjxHEu"
      },
      "source": [
        "def permute(s):\n",
        "  \n",
        "  out = []\n",
        "  if bool(s) and len(s) == 1:\n",
        "    out = [s]\n",
        "  else:\n",
        "    for let in s:\n",
        "      for perm in permute(s.replace(let,'')):\n",
        "        out += [let+perm]\n",
        "  return out"
      ],
      "execution_count": 36,
      "outputs": []
    },
    {
      "cell_type": "code",
      "metadata": {
        "colab": {
          "base_uri": "https://localhost:8080/"
        },
        "id": "YoEYIoLIrSI2",
        "outputId": "04cd75d6-8098-459c-8d39-73a935af582e"
      },
      "source": [
        "permute('ABCDE')"
      ],
      "execution_count": 37,
      "outputs": [
        {
          "output_type": "execute_result",
          "data": {
            "text/plain": [
              "['ABCDE',\n",
              " 'ABCED',\n",
              " 'ABDCE',\n",
              " 'ABDEC',\n",
              " 'ABECD',\n",
              " 'ABEDC',\n",
              " 'ACBDE',\n",
              " 'ACBED',\n",
              " 'ACDBE',\n",
              " 'ACDEB',\n",
              " 'ACEBD',\n",
              " 'ACEDB',\n",
              " 'ADBCE',\n",
              " 'ADBEC',\n",
              " 'ADCBE',\n",
              " 'ADCEB',\n",
              " 'ADEBC',\n",
              " 'ADECB',\n",
              " 'AEBCD',\n",
              " 'AEBDC',\n",
              " 'AECBD',\n",
              " 'AECDB',\n",
              " 'AEDBC',\n",
              " 'AEDCB',\n",
              " 'BACDE',\n",
              " 'BACED',\n",
              " 'BADCE',\n",
              " 'BADEC',\n",
              " 'BAECD',\n",
              " 'BAEDC',\n",
              " 'BCADE',\n",
              " 'BCAED',\n",
              " 'BCDAE',\n",
              " 'BCDEA',\n",
              " 'BCEAD',\n",
              " 'BCEDA',\n",
              " 'BDACE',\n",
              " 'BDAEC',\n",
              " 'BDCAE',\n",
              " 'BDCEA',\n",
              " 'BDEAC',\n",
              " 'BDECA',\n",
              " 'BEACD',\n",
              " 'BEADC',\n",
              " 'BECAD',\n",
              " 'BECDA',\n",
              " 'BEDAC',\n",
              " 'BEDCA',\n",
              " 'CABDE',\n",
              " 'CABED',\n",
              " 'CADBE',\n",
              " 'CADEB',\n",
              " 'CAEBD',\n",
              " 'CAEDB',\n",
              " 'CBADE',\n",
              " 'CBAED',\n",
              " 'CBDAE',\n",
              " 'CBDEA',\n",
              " 'CBEAD',\n",
              " 'CBEDA',\n",
              " 'CDABE',\n",
              " 'CDAEB',\n",
              " 'CDBAE',\n",
              " 'CDBEA',\n",
              " 'CDEAB',\n",
              " 'CDEBA',\n",
              " 'CEABD',\n",
              " 'CEADB',\n",
              " 'CEBAD',\n",
              " 'CEBDA',\n",
              " 'CEDAB',\n",
              " 'CEDBA',\n",
              " 'DABCE',\n",
              " 'DABEC',\n",
              " 'DACBE',\n",
              " 'DACEB',\n",
              " 'DAEBC',\n",
              " 'DAECB',\n",
              " 'DBACE',\n",
              " 'DBAEC',\n",
              " 'DBCAE',\n",
              " 'DBCEA',\n",
              " 'DBEAC',\n",
              " 'DBECA',\n",
              " 'DCABE',\n",
              " 'DCAEB',\n",
              " 'DCBAE',\n",
              " 'DCBEA',\n",
              " 'DCEAB',\n",
              " 'DCEBA',\n",
              " 'DEABC',\n",
              " 'DEACB',\n",
              " 'DEBAC',\n",
              " 'DEBCA',\n",
              " 'DECAB',\n",
              " 'DECBA',\n",
              " 'EABCD',\n",
              " 'EABDC',\n",
              " 'EACBD',\n",
              " 'EACDB',\n",
              " 'EADBC',\n",
              " 'EADCB',\n",
              " 'EBACD',\n",
              " 'EBADC',\n",
              " 'EBCAD',\n",
              " 'EBCDA',\n",
              " 'EBDAC',\n",
              " 'EBDCA',\n",
              " 'ECABD',\n",
              " 'ECADB',\n",
              " 'ECBAD',\n",
              " 'ECBDA',\n",
              " 'ECDAB',\n",
              " 'ECDBA',\n",
              " 'EDABC',\n",
              " 'EDACB',\n",
              " 'EDBAC',\n",
              " 'EDBCA',\n",
              " 'EDCAB',\n",
              " 'EDCBA']"
            ]
          },
          "metadata": {
            "tags": []
          },
          "execution_count": 37
        }
      ]
    },
    {
      "cell_type": "code",
      "metadata": {
        "id": "k7uv51iuwq7S"
      },
      "source": [
        ""
      ],
      "execution_count": null,
      "outputs": []
    }
  ]
}