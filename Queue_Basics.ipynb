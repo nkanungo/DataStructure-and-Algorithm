{
  "nbformat": 4,
  "nbformat_minor": 0,
  "metadata": {
    "colab": {
      "name": "Queue_Basics.ipynb",
      "provenance": [],
      "collapsed_sections": [],
      "authorship_tag": "ABX9TyPreuj/uXnio2K9cJSWL4aq",
      "include_colab_link": true
    },
    "kernelspec": {
      "name": "python3",
      "display_name": "Python 3"
    },
    "language_info": {
      "name": "python"
    }
  },
  "cells": [
    {
      "cell_type": "markdown",
      "metadata": {
        "id": "view-in-github",
        "colab_type": "text"
      },
      "source": [
        "<a href=\"https://colab.research.google.com/github/nkanungo/DataStructure-and-Algorithm/blob/main/Queue_Basics.ipynb\" target=\"_parent\"><img src=\"https://colab.research.google.com/assets/colab-badge.svg\" alt=\"Open In Colab\"/></a>"
      ]
    },
    {
      "cell_type": "markdown",
      "metadata": {
        "id": "1HX4dQXl3PBv"
      },
      "source": [
        "Implement Queue\n",
        "\n",
        "1. Check If Queue is Empty\n",
        "2. Enqueue\n",
        "3. DeQueue\n",
        "4. Return the Size of the Queue\n"
      ]
    },
    {
      "cell_type": "code",
      "metadata": {
        "id": "fQSLNEJ_3K58"
      },
      "source": [
        "class queue_basics(object):\n",
        "\n",
        "  def __init__(self):\n",
        "    self.qlist=[]\n",
        "\n",
        "  def is_empty(self):\n",
        "    return self.qlist == []\n",
        "\n",
        "  def qlen(self):\n",
        "    return len(self.qlist)\n",
        "\n",
        "  def enq(self,item):\n",
        "    self.qlist.insert(0,item)\n",
        "\n",
        "  def deq(self):\n",
        "    self.qlist.pop()\n",
        "\n",
        "\n"
      ],
      "execution_count": 2,
      "outputs": []
    },
    {
      "cell_type": "code",
      "metadata": {
        "colab": {
          "base_uri": "https://localhost:8080/"
        },
        "id": "keYjbyIz5iga",
        "outputId": "d38fc32f-a034-4539-f177-473fa54a570e"
      },
      "source": [
        "q1=queue_basics()\n",
        "q1.is_empty()\n"
      ],
      "execution_count": 3,
      "outputs": [
        {
          "output_type": "execute_result",
          "data": {
            "text/plain": [
              "True"
            ]
          },
          "metadata": {
            "tags": []
          },
          "execution_count": 3
        }
      ]
    },
    {
      "cell_type": "code",
      "metadata": {
        "colab": {
          "base_uri": "https://localhost:8080/"
        },
        "id": "A6rpdgKi52XP",
        "outputId": "0baa8e9d-1f43-4da7-bdd5-835a4797337d"
      },
      "source": [
        "q1.qlen()"
      ],
      "execution_count": 4,
      "outputs": [
        {
          "output_type": "execute_result",
          "data": {
            "text/plain": [
              "0"
            ]
          },
          "metadata": {
            "tags": []
          },
          "execution_count": 4
        }
      ]
    },
    {
      "cell_type": "code",
      "metadata": {
        "id": "DrCeCF4B58DA"
      },
      "source": [
        "q1.enq(1)"
      ],
      "execution_count": 5,
      "outputs": []
    },
    {
      "cell_type": "code",
      "metadata": {
        "colab": {
          "base_uri": "https://localhost:8080/"
        },
        "id": "qbwIQ0XS5-EB",
        "outputId": "7302072f-dda6-4640-dc09-fb9e9ae6281a"
      },
      "source": [
        "q1.qlen()"
      ],
      "execution_count": 6,
      "outputs": [
        {
          "output_type": "execute_result",
          "data": {
            "text/plain": [
              "1"
            ]
          },
          "metadata": {
            "tags": []
          },
          "execution_count": 6
        }
      ]
    },
    {
      "cell_type": "code",
      "metadata": {
        "id": "laMFfTJR5_5K"
      },
      "source": [
        "q1.enq(2)"
      ],
      "execution_count": 7,
      "outputs": []
    },
    {
      "cell_type": "code",
      "metadata": {
        "colab": {
          "base_uri": "https://localhost:8080/"
        },
        "id": "K7OKebSs6B9x",
        "outputId": "fdc08ac6-ebe0-4879-ee7d-0eeb9acc3314"
      },
      "source": [
        "q1.qlen()"
      ],
      "execution_count": 8,
      "outputs": [
        {
          "output_type": "execute_result",
          "data": {
            "text/plain": [
              "2"
            ]
          },
          "metadata": {
            "tags": []
          },
          "execution_count": 8
        }
      ]
    },
    {
      "cell_type": "code",
      "metadata": {
        "id": "QFCQihPs6QWb"
      },
      "source": [
        "q1.deq()"
      ],
      "execution_count": 9,
      "outputs": []
    },
    {
      "cell_type": "code",
      "metadata": {
        "colab": {
          "base_uri": "https://localhost:8080/"
        },
        "id": "J1lOR5ae6s4-",
        "outputId": "37ec94bd-cd5e-4596-a3db-4a40e204344e"
      },
      "source": [
        "q1.qlen()"
      ],
      "execution_count": 10,
      "outputs": [
        {
          "output_type": "execute_result",
          "data": {
            "text/plain": [
              "1"
            ]
          },
          "metadata": {
            "tags": []
          },
          "execution_count": 10
        }
      ]
    },
    {
      "cell_type": "code",
      "metadata": {
        "id": "mNh_Jqah6wA6"
      },
      "source": [
        ""
      ],
      "execution_count": null,
      "outputs": []
    }
  ]
}