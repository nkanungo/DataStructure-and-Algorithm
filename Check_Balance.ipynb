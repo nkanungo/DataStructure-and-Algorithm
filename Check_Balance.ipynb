{
  "nbformat": 4,
  "nbformat_minor": 0,
  "metadata": {
    "colab": {
      "name": "Check_Balance.ipynb",
      "provenance": [],
      "authorship_tag": "ABX9TyM+4IpiLDtwIWVMqIA2odmR",
      "include_colab_link": true
    },
    "kernelspec": {
      "name": "python3",
      "display_name": "Python 3"
    },
    "language_info": {
      "name": "python"
    }
  },
  "cells": [
    {
      "cell_type": "markdown",
      "metadata": {
        "id": "view-in-github",
        "colab_type": "text"
      },
      "source": [
        "<a href=\"https://colab.research.google.com/github/nkanungo/DataStructure-and-Algorithm/blob/main/Check_Balance.ipynb\" target=\"_parent\"><img src=\"https://colab.research.google.com/assets/colab-badge.svg\" alt=\"Open In Colab\"/></a>"
      ]
    },
    {
      "cell_type": "markdown",
      "metadata": {
        "id": "Uk8myUF_AcZO"
      },
      "source": [
        "The following function checks to see if a string is balanced. It means to check if each opening paranthesis has a closed one "
      ]
    },
    {
      "cell_type": "code",
      "metadata": {
        "id": "tqqjHIsov0l5"
      },
      "source": [
        "def balance_check(s):\n",
        "  if len(s) == 0:\n",
        "    return\n",
        "  if len(s) % 2 !=0:\n",
        "    return 'not balanced'\n",
        "  bal_list=[]\n",
        "  bracket_list = {'{':'}','(':')','[':']'}\n",
        "  for l in s:\n",
        "    bal_list.append(l)\n",
        "  for i in range(int(len(bal_list)/2)):\n",
        "    if bracket_list[bal_list.pop(0)] != bal_list.pop():\n",
        "      return 'not balanced'\n",
        "  return 'balanced'\n",
        "\n",
        "\n",
        "  \n",
        "  \n"
      ],
      "execution_count": 1,
      "outputs": []
    },
    {
      "cell_type": "code",
      "metadata": {
        "colab": {
          "base_uri": "https://localhost:8080/",
          "height": 35
        },
        "id": "kWP1xXNYwGvS",
        "outputId": "68f85482-baf2-4085-82ca-d022abc2f9c4"
      },
      "source": [
        "s='[{({{({[]})}})}]'\n",
        "balance_check(s)"
      ],
      "execution_count": 2,
      "outputs": [
        {
          "output_type": "execute_result",
          "data": {
            "application/vnd.google.colaboratory.intrinsic+json": {
              "type": "string"
            },
            "text/plain": [
              "'balanced'"
            ]
          },
          "metadata": {
            "tags": []
          },
          "execution_count": 2
        }
      ]
    },
    {
      "cell_type": "code",
      "metadata": {
        "colab": {
          "base_uri": "https://localhost:8080/",
          "height": 35
        },
        "id": "7EPS2VmRwT4v",
        "outputId": "3048cef9-c3de-40f3-c8fa-5bb6e84537ca"
      },
      "source": [
        "s='[{({{({[]})}})]'\n",
        "balance_check(s)"
      ],
      "execution_count": 3,
      "outputs": [
        {
          "output_type": "execute_result",
          "data": {
            "application/vnd.google.colaboratory.intrinsic+json": {
              "type": "string"
            },
            "text/plain": [
              "'not balanced'"
            ]
          },
          "metadata": {
            "tags": []
          },
          "execution_count": 3
        }
      ]
    },
    {
      "cell_type": "code",
      "metadata": {
        "id": "bXt5ubtd3UEp"
      },
      "source": [
        "s=''\n",
        "balance_check(s)"
      ],
      "execution_count": 4,
      "outputs": []
    },
    {
      "cell_type": "code",
      "metadata": {
        "id": "mjwDmNzuBNBq"
      },
      "source": [
        ""
      ],
      "execution_count": 4,
      "outputs": []
    }
  ]
}