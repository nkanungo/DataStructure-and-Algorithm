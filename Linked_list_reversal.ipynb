{
  "nbformat": 4,
  "nbformat_minor": 0,
  "metadata": {
    "colab": {
      "name": "Linked list reversal.ipynb",
      "provenance": [],
      "authorship_tag": "ABX9TyN8fbjCkEhhIC/uTVdgxgQA",
      "include_colab_link": true
    },
    "kernelspec": {
      "name": "python3",
      "display_name": "Python 3"
    },
    "language_info": {
      "name": "python"
    }
  },
  "cells": [
    {
      "cell_type": "markdown",
      "metadata": {
        "id": "view-in-github",
        "colab_type": "text"
      },
      "source": [
        "<a href=\"https://colab.research.google.com/github/nkanungo/DataStructure-and-Algorithm/blob/main/Linked_list_reversal.ipynb\" target=\"_parent\"><img src=\"https://colab.research.google.com/assets/colab-badge.svg\" alt=\"Open In Colab\"/></a>"
      ]
    },
    {
      "cell_type": "markdown",
      "metadata": {
        "id": "YlfmABZhlhwJ"
      },
      "source": [
        "# How to Reverse a Linked list in the Interview Setting"
      ]
    },
    {
      "cell_type": "code",
      "metadata": {
        "id": "2cg5jq187_bp"
      },
      "source": [
        "class Node(object):\n",
        "  def __init__(self,value):\n",
        "    self.value = value\n",
        "    self.nextnode = None \n",
        "    "
      ],
      "execution_count": 26,
      "outputs": []
    },
    {
      "cell_type": "code",
      "metadata": {
        "id": "OkjFIUytn2Zi"
      },
      "source": [
        "def reverse(head):\n",
        "    \n",
        "    # Set up current,previous, and next nodes\n",
        "    current_node = head\n",
        "    previous_node = None\n",
        "    next_node = None\n",
        "\n",
        "    # until we have gone through to the end of the list\n",
        "    while current_node:\n",
        "        \n",
        "        # Make sure to copy the current nodes next node to a variable next_node\n",
        "        # Before overwriting as the previous node for reversal\n",
        "        next_node = current_node.nextnode\n",
        "\n",
        "        # Reverse the pointer ot the next_node\n",
        "        current_node.nextnode = previous_node\n",
        "\n",
        "        # Go one forward in the list\n",
        "        previous_node = current_node\n",
        "        current_node = next_node\n",
        "    # print(previous.value)\n",
        "    # return previous"
      ],
      "execution_count": 27,
      "outputs": []
    },
    {
      "cell_type": "code",
      "metadata": {
        "id": "ljnu6h5k9ChF"
      },
      "source": [
        "a = Node(1)\n",
        "b = Node(2)\n",
        "c = Node(3)\n",
        "d = Node(4)\n",
        "\n",
        "a.nextnode = b\n",
        "b.nextnode = c\n",
        "c.nextnode = d\n",
        "\n"
      ],
      "execution_count": 28,
      "outputs": []
    },
    {
      "cell_type": "code",
      "metadata": {
        "colab": {
          "base_uri": "https://localhost:8080/"
        },
        "id": "oZzNbrgV9YES",
        "outputId": "96d6bf3e-1a69-4acc-bb1b-58a71a0f6982"
      },
      "source": [
        "print(a.nextnode.value)\n",
        "print(b.nextnode.value)\n",
        "print(c.nextnode.value)"
      ],
      "execution_count": 29,
      "outputs": [
        {
          "output_type": "stream",
          "text": [
            "2\n",
            "3\n",
            "4\n"
          ],
          "name": "stdout"
        }
      ]
    },
    {
      "cell_type": "code",
      "metadata": {
        "colab": {
          "base_uri": "https://localhost:8080/",
          "height": 163
        },
        "id": "msOhIUII9iIN",
        "outputId": "03f3cc41-ee46-4b25-fbd7-f81be2ae3abb"
      },
      "source": [
        "d.nextnode.value"
      ],
      "execution_count": 30,
      "outputs": [
        {
          "output_type": "error",
          "ename": "AttributeError",
          "evalue": "ignored",
          "traceback": [
            "\u001b[0;31m---------------------------------------------------------------------------\u001b[0m",
            "\u001b[0;31mAttributeError\u001b[0m                            Traceback (most recent call last)",
            "\u001b[0;32m<ipython-input-30-9ee2d814a788>\u001b[0m in \u001b[0;36m<module>\u001b[0;34m()\u001b[0m\n\u001b[0;32m----> 1\u001b[0;31m \u001b[0md\u001b[0m\u001b[0;34m.\u001b[0m\u001b[0mnextnode\u001b[0m\u001b[0;34m.\u001b[0m\u001b[0mvalue\u001b[0m\u001b[0;34m\u001b[0m\u001b[0;34m\u001b[0m\u001b[0m\n\u001b[0m",
            "\u001b[0;31mAttributeError\u001b[0m: 'NoneType' object has no attribute 'value'"
          ]
        }
      ]
    },
    {
      "cell_type": "code",
      "metadata": {
        "id": "Hk_jOR_AXbfq"
      },
      "source": [
        "reverse(a)"
      ],
      "execution_count": 31,
      "outputs": []
    },
    {
      "cell_type": "code",
      "metadata": {
        "colab": {
          "base_uri": "https://localhost:8080/"
        },
        "id": "bPBzoIhbYhpA",
        "outputId": "1e14ed80-5e08-4c3b-b1c5-67aada0e534c"
      },
      "source": [
        "print(d.nextnode.value)"
      ],
      "execution_count": 32,
      "outputs": [
        {
          "output_type": "stream",
          "text": [
            "3\n"
          ],
          "name": "stdout"
        }
      ]
    },
    {
      "cell_type": "code",
      "metadata": {
        "colab": {
          "base_uri": "https://localhost:8080/"
        },
        "id": "OpH_1a3llehH",
        "outputId": "5bacfdc5-4e74-4e0f-dd51-e9df843a7651"
      },
      "source": [
        "print(c.nextnode.value)"
      ],
      "execution_count": 33,
      "outputs": [
        {
          "output_type": "stream",
          "text": [
            "2\n"
          ],
          "name": "stdout"
        }
      ]
    },
    {
      "cell_type": "code",
      "metadata": {
        "id": "btI1F9SG8788"
      },
      "source": [
        ""
      ],
      "execution_count": null,
      "outputs": []
    }
  ]
}