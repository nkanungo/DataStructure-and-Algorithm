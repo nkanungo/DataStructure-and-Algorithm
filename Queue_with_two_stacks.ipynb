{
  "nbformat": 4,
  "nbformat_minor": 0,
  "metadata": {
    "colab": {
      "name": "Queue_with_two_stacks.ipynb",
      "provenance": [],
      "authorship_tag": "ABX9TyNRU4bZBmy/G3pw/YqB36DI",
      "include_colab_link": true
    },
    "kernelspec": {
      "name": "python3",
      "display_name": "Python 3"
    },
    "language_info": {
      "name": "python"
    }
  },
  "cells": [
    {
      "cell_type": "markdown",
      "metadata": {
        "id": "view-in-github",
        "colab_type": "text"
      },
      "source": [
        "<a href=\"https://colab.research.google.com/github/nkanungo/DataStructure-and-Algorithm/blob/main/Queue_with_two_stacks.ipynb\" target=\"_parent\"><img src=\"https://colab.research.google.com/assets/colab-badge.svg\" alt=\"Open In Colab\"/></a>"
      ]
    },
    {
      "cell_type": "markdown",
      "metadata": {
        "id": "vzxiudeqCrnb"
      },
      "source": [
        "The following code shows how to use 2 Stacks to make a Queue (FIFO)\n",
        "\n",
        "---\n",
        "\n",
        "\n",
        "\n",
        "\n"
      ]
    },
    {
      "cell_type": "code",
      "metadata": {
        "id": "0uBahYyZBnyO"
      },
      "source": [
        "class queue2stacks(object):\n",
        "\n",
        "  def __init__(self):\n",
        "    self.stack1 = []\n",
        "    self.stack2 = []\n",
        "\n",
        "  def isempty(self):\n",
        "    return self.stack1 == [], self.stack2 == []\n",
        "  \n",
        "  def enq(self,item):\n",
        "    self.stack1.append(item)\n",
        "\n",
        "  def deq(self):\n",
        "    for _ in range(len(self.stack1)):\n",
        "      self.stack2.append(self.stack1.pop())\n",
        "    self.stack2.pop()\n",
        "  \n",
        "  def check_val(self):\n",
        "    print(self.stack2)\n"
      ],
      "execution_count": 1,
      "outputs": []
    },
    {
      "cell_type": "code",
      "metadata": {
        "colab": {
          "base_uri": "https://localhost:8080/"
        },
        "id": "0oz-YgFMPQnV",
        "outputId": "32a5976e-6ca3-492a-94e7-5cecaf4f2b93"
      },
      "source": [
        "q2s = queue2stacks()\n",
        "q2s.isempty()"
      ],
      "execution_count": 2,
      "outputs": [
        {
          "output_type": "execute_result",
          "data": {
            "text/plain": [
              "(True, True)"
            ]
          },
          "metadata": {
            "tags": []
          },
          "execution_count": 2
        }
      ]
    },
    {
      "cell_type": "code",
      "metadata": {
        "id": "aKQHuDImQKHS"
      },
      "source": [
        "for i in range (10,100,10):\n",
        "  q2s.enq(i)"
      ],
      "execution_count": 3,
      "outputs": []
    },
    {
      "cell_type": "code",
      "metadata": {
        "colab": {
          "base_uri": "https://localhost:8080/"
        },
        "id": "VMRHYECoQWX5",
        "outputId": "2e90bdb8-7c0b-4c2d-e9a5-78672b4de702"
      },
      "source": [
        "for _ in range(9):\n",
        "  q2s.deq()\n",
        "  q2s.check_val()"
      ],
      "execution_count": 4,
      "outputs": [
        {
          "output_type": "stream",
          "text": [
            "[90, 80, 70, 60, 50, 40, 30, 20]\n",
            "[90, 80, 70, 60, 50, 40, 30]\n",
            "[90, 80, 70, 60, 50, 40]\n",
            "[90, 80, 70, 60, 50]\n",
            "[90, 80, 70, 60]\n",
            "[90, 80, 70]\n",
            "[90, 80]\n",
            "[90]\n",
            "[]\n"
          ],
          "name": "stdout"
        }
      ]
    }
  ]
}