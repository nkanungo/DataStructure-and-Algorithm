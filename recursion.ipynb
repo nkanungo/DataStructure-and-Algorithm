{
  "nbformat": 4,
  "nbformat_minor": 0,
  "metadata": {
    "colab": {
      "name": "recursion.ipynb",
      "provenance": [],
      "authorship_tag": "ABX9TyMjxBQhVeT3Ae0Pc6s4jyAx",
      "include_colab_link": true
    },
    "kernelspec": {
      "name": "python3",
      "display_name": "Python 3"
    },
    "language_info": {
      "name": "python"
    }
  },
  "cells": [
    {
      "cell_type": "markdown",
      "metadata": {
        "id": "view-in-github",
        "colab_type": "text"
      },
      "source": [
        "<a href=\"https://colab.research.google.com/github/nkanungo/DataStructure-and-Algorithm/blob/main/recursion.ipynb\" target=\"_parent\"><img src=\"https://colab.research.google.com/assets/colab-badge.svg\" alt=\"Open In Colab\"/></a>"
      ]
    },
    {
      "cell_type": "markdown",
      "metadata": {
        "id": "r0XJGZPAk7Ld"
      },
      "source": [
        "Problem 1\n",
        "================\n",
        "Write a recursive function which takes an integer and computes the cumulative sum of 0 to that integer\n",
        "\n",
        "For example, if n=4 , return 4+3+2+1+0, which is 10.\n",
        "\n",
        "This problem is very similar to the factorial problem presented during the introduction to recursion. Remember, always think of what the base case will look like. In this case, we have a base case of n =0 (Note, you could have also designed the cut off to be 1).\n",
        "\n",
        "In this case, we have: n + (n-1) + (n-2) + .... + 0\n"
      ]
    },
    {
      "cell_type": "code",
      "metadata": {
        "id": "7fpQr3h-dcs_"
      },
      "source": [
        "def rec_sum(n):\n",
        "  if n == 0:\n",
        "    return 0\n",
        "  elif n == 1:\n",
        "    return 1\n",
        "  else:\n",
        "    return n + rec_sum(n-1)"
      ],
      "execution_count": 5,
      "outputs": []
    },
    {
      "cell_type": "code",
      "metadata": {
        "colab": {
          "base_uri": "https://localhost:8080/"
        },
        "id": "AZGwB3yckfTa",
        "outputId": "0672dcf7-9588-4eb9-e561-420387b62f11"
      },
      "source": [
        "rec_sum(4)"
      ],
      "execution_count": 6,
      "outputs": [
        {
          "output_type": "execute_result",
          "data": {
            "text/plain": [
              "10"
            ]
          },
          "metadata": {
            "tags": []
          },
          "execution_count": 6
        }
      ]
    },
    {
      "cell_type": "markdown",
      "metadata": {
        "id": "ByXAtwTrlG9V"
      },
      "source": [
        "Problem 2\n",
        "==========\n",
        "Given an integer, create a function which returns the sum of all the individual digits in that integer. For example: if n = 4321, return 4+3+2+1"
      ]
    },
    {
      "cell_type": "code",
      "metadata": {
        "id": "mHsY9Q9Udu-e"
      },
      "source": [
        "def sum_func(n):\n",
        "  if bool(n) and n > 1 and n < 10 :\n",
        "    return n\n",
        "  else:\n",
        "    return n%10 + sum_func(n//10)\n"
      ],
      "execution_count": 11,
      "outputs": []
    },
    {
      "cell_type": "code",
      "metadata": {
        "colab": {
          "base_uri": "https://localhost:8080/"
        },
        "id": "zceem5cFdv_B",
        "outputId": "6e7af39f-7771-477a-ffc0-74859cc01455"
      },
      "source": [
        "sum_func(4328781)"
      ],
      "execution_count": 13,
      "outputs": [
        {
          "output_type": "execute_result",
          "data": {
            "text/plain": [
              "33"
            ]
          },
          "metadata": {
            "tags": []
          },
          "execution_count": 13
        }
      ]
    },
    {
      "cell_type": "markdown",
      "metadata": {
        "id": "IsE7DCwGnIyv"
      },
      "source": [
        "Problem 3\n",
        "===========\n",
        "Note, this is a more advanced problem than the previous two! It aso has a lot of variation possibilities and we're ignoring strict requirements here.\n",
        "\n",
        "Create a function called word_split() which takes in a string phrase and a set list_of_words. The function will then determine if it is possible to split the string in a way in which words can be made from the list of words. You can assume the phrase will only contain words found in the dictionary if it is completely splittable."
      ]
    },
    {
      "cell_type": "code",
      "metadata": {
        "id": "r1NX0l-YnDvu"
      },
      "source": [
        "def word_split(phrase,list_of_words, output = None):\n",
        "    '''\n",
        "    Note: This is a very \"python-y\" solution.\n",
        "    ''' \n",
        "    \n",
        "    # Checks to see if any output has been initiated.\n",
        "    # If you default output=[], it would be overwritten for every recursion!\n",
        "    if output is None:\n",
        "        output = []\n",
        "    \n",
        "    # For every word in list\n",
        "    for word in list_of_words:\n",
        "        \n",
        "        # If the current phrase begins with the word, we have a split point!\n",
        "        if phrase.startswith(word):\n",
        "            \n",
        "            # Add the word to the output\n",
        "            output.append(word)\n",
        "            \n",
        "            # Recursively call the split function on the remaining portion of the phrase--- phrase[len(word):]\n",
        "            # Remember to pass along the output and list of words\n",
        "            return word_split(phrase[len(word):],list_of_words,output)\n",
        "    \n",
        "    # Finally return output if no phrase.startswith(word) returns True\n",
        "    return output      \n",
        "  \n",
        "\n",
        "   \n",
        "\n",
        "\n",
        "  "
      ],
      "execution_count": 59,
      "outputs": []
    },
    {
      "cell_type": "code",
      "metadata": {
        "colab": {
          "base_uri": "https://localhost:8080/"
        },
        "id": "lJthHf-IoCM9",
        "outputId": "d918fbca-56a9-47dd-dfb2-0e8e3c4b24ae"
      },
      "source": [
        "word_split('themanran',['the','ran','man'])"
      ],
      "execution_count": 60,
      "outputs": [
        {
          "output_type": "execute_result",
          "data": {
            "text/plain": [
              "['the', 'man', 'ran']"
            ]
          },
          "metadata": {
            "tags": []
          },
          "execution_count": 60
        }
      ]
    },
    {
      "cell_type": "code",
      "metadata": {
        "colab": {
          "base_uri": "https://localhost:8080/"
        },
        "id": "BDkwytGCocAT",
        "outputId": "5ab9da82-575a-4126-8bc1-26b737ec38da"
      },
      "source": [
        "word_split('ilovedogsJohn',['i','am','a','dogs','lover','love','John'])"
      ],
      "execution_count": 61,
      "outputs": [
        {
          "output_type": "execute_result",
          "data": {
            "text/plain": [
              "['i', 'love', 'dogs', 'John']"
            ]
          },
          "metadata": {
            "tags": []
          },
          "execution_count": 61
        }
      ]
    },
    {
      "cell_type": "code",
      "metadata": {
        "colab": {
          "base_uri": "https://localhost:8080/"
        },
        "id": "f6PpUT3ioeKK",
        "outputId": "9ead695e-916e-4a24-e22a-5bd7b054a0b4"
      },
      "source": [
        "word_split('themanran',['clown','ran','man'])"
      ],
      "execution_count": 62,
      "outputs": [
        {
          "output_type": "execute_result",
          "data": {
            "text/plain": [
              "[]"
            ]
          },
          "metadata": {
            "tags": []
          },
          "execution_count": 62
        }
      ]
    },
    {
      "cell_type": "code",
      "metadata": {
        "id": "RizUP3VwEqhv"
      },
      "source": [
        ""
      ],
      "execution_count": null,
      "outputs": []
    }
  ]
}