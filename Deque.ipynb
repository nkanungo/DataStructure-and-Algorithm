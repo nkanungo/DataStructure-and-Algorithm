{
  "nbformat": 4,
  "nbformat_minor": 0,
  "metadata": {
    "colab": {
      "name": "Deque.ipynb",
      "provenance": [],
      "authorship_tag": "ABX9TyN1xEXiW3f6saolfcLV1Jt9",
      "include_colab_link": true
    },
    "kernelspec": {
      "name": "python3",
      "display_name": "Python 3"
    },
    "language_info": {
      "name": "python"
    }
  },
  "cells": [
    {
      "cell_type": "markdown",
      "metadata": {
        "id": "view-in-github",
        "colab_type": "text"
      },
      "source": [
        "<a href=\"https://colab.research.google.com/github/nkanungo/DataStructure-and-Algorithm/blob/main/Deque.ipynb\" target=\"_parent\"><img src=\"https://colab.research.google.com/assets/colab-badge.svg\" alt=\"Open In Colab\"/></a>"
      ]
    },
    {
      "cell_type": "markdown",
      "metadata": {
        "id": "Qin1pgQTF5DN"
      },
      "source": [
        "The Basics of Deque "
      ]
    },
    {
      "cell_type": "code",
      "metadata": {
        "id": "zmVMWUL4F0up"
      },
      "source": [
        "class deque_basics(object):\n",
        "\n",
        "  def __init__(self):\n",
        "    self.deq_list = []\n",
        "  \n",
        "  def is_empty(self):\n",
        "    return self.deq_list == []\n",
        "\n",
        "  def add_front(self,item):\n",
        "    self.deq_list.append(item)\n",
        "\n",
        "  def add_back(self,item):\n",
        "    self.deq_list.insert(0,item)\n",
        "\n",
        "  def remove_front(self):\n",
        "    self.deq_list.pop()\n",
        "\n",
        "  def remove_back(self):\n",
        "    self.deq_list.pop(0)\n",
        "\n",
        "  def getsize(self):\n",
        "    return len(self.deq_list)\n",
        "  def show_array(self):\n",
        "    print(self.deq_list)\n"
      ],
      "execution_count": 8,
      "outputs": []
    },
    {
      "cell_type": "code",
      "metadata": {
        "colab": {
          "base_uri": "https://localhost:8080/"
        },
        "id": "zQdBINQLHKfc",
        "outputId": "8bad8a7e-9e10-4c49-c243-6250b00273b7"
      },
      "source": [
        "deq1 = deque_basics()\n",
        "deq1.is_empty()"
      ],
      "execution_count": 9,
      "outputs": [
        {
          "output_type": "execute_result",
          "data": {
            "text/plain": [
              "True"
            ]
          },
          "metadata": {
            "tags": []
          },
          "execution_count": 9
        }
      ]
    },
    {
      "cell_type": "code",
      "metadata": {
        "id": "sE7AVTqPHNwt"
      },
      "source": [
        "deq1.add_front(10)"
      ],
      "execution_count": 10,
      "outputs": []
    },
    {
      "cell_type": "code",
      "metadata": {
        "id": "cKRMWGL9Jtf_"
      },
      "source": [
        "deq1.add_back(20)"
      ],
      "execution_count": 11,
      "outputs": []
    },
    {
      "cell_type": "code",
      "metadata": {
        "colab": {
          "base_uri": "https://localhost:8080/"
        },
        "id": "KYx_ax9CJwCj",
        "outputId": "53fa4615-3854-4e70-d401-0cc92bcc17d0"
      },
      "source": [
        "deq1.show_array()"
      ],
      "execution_count": 12,
      "outputs": [
        {
          "output_type": "stream",
          "text": [
            "[20, 10]\n"
          ],
          "name": "stdout"
        }
      ]
    },
    {
      "cell_type": "code",
      "metadata": {
        "colab": {
          "base_uri": "https://localhost:8080/"
        },
        "id": "2jO2uup3JzB-",
        "outputId": "1d6a840c-f0da-4f60-f629-f973f5927838"
      },
      "source": [
        "deq1.add_front(30)\n",
        "deq1.add_back(40)\n",
        "deq1.show_array()"
      ],
      "execution_count": 13,
      "outputs": [
        {
          "output_type": "stream",
          "text": [
            "[40, 20, 10, 30]\n"
          ],
          "name": "stdout"
        }
      ]
    },
    {
      "cell_type": "code",
      "metadata": {
        "colab": {
          "base_uri": "https://localhost:8080/"
        },
        "id": "BQACAuggJ-vA",
        "outputId": "08d73875-cf5a-4fab-d6ea-c3729b43b2be"
      },
      "source": [
        "deq1.remove_front()\n",
        "deq1.show_array()"
      ],
      "execution_count": 14,
      "outputs": [
        {
          "output_type": "stream",
          "text": [
            "[40, 20, 10]\n"
          ],
          "name": "stdout"
        }
      ]
    },
    {
      "cell_type": "code",
      "metadata": {
        "colab": {
          "base_uri": "https://localhost:8080/"
        },
        "id": "EfjdYd7YKELK",
        "outputId": "8b3a042b-dc82-488f-c4ca-ed7bd5409c09"
      },
      "source": [
        "deq1.remove_back()\n",
        "deq1.show_array()"
      ],
      "execution_count": 15,
      "outputs": [
        {
          "output_type": "stream",
          "text": [
            "[20, 10]\n"
          ],
          "name": "stdout"
        }
      ]
    },
    {
      "cell_type": "code",
      "metadata": {
        "colab": {
          "base_uri": "https://localhost:8080/"
        },
        "id": "ITz0DSZpKIX8",
        "outputId": "5494d7cc-9c70-4be8-f2fe-290a85500df5"
      },
      "source": [
        "deq1.getsize()"
      ],
      "execution_count": 16,
      "outputs": [
        {
          "output_type": "execute_result",
          "data": {
            "text/plain": [
              "2"
            ]
          },
          "metadata": {
            "tags": []
          },
          "execution_count": 16
        }
      ]
    },
    {
      "cell_type": "code",
      "metadata": {
        "id": "ZNgWEr2wKNRa"
      },
      "source": [
        ""
      ],
      "execution_count": null,
      "outputs": []
    }
  ]
}