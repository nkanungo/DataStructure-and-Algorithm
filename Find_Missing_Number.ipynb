{
  "nbformat": 4,
  "nbformat_minor": 0,
  "metadata": {
    "colab": {
      "name": "Find_Missing_Number.ipynb",
      "provenance": [],
      "authorship_tag": "ABX9TyP0Z5q5v22xxI7ILkV0QrhX",
      "include_colab_link": true
    },
    "kernelspec": {
      "name": "python3",
      "display_name": "Python 3"
    },
    "language_info": {
      "name": "python"
    }
  },
  "cells": [
    {
      "cell_type": "markdown",
      "metadata": {
        "id": "view-in-github",
        "colab_type": "text"
      },
      "source": [
        "<a href=\"https://colab.research.google.com/github/nkanungo/DataStructure-and-Algorithm/blob/main/Find_Missing_Number.ipynb\" target=\"_parent\"><img src=\"https://colab.research.google.com/assets/colab-badge.svg\" alt=\"Open In Colab\"/></a>"
      ]
    },
    {
      "cell_type": "markdown",
      "metadata": {
        "id": "j8kFit_rpuFT"
      },
      "source": [
        "This Notebook Provides a simple Implementation of FInding the Missing number by comparing two arrays "
      ]
    },
    {
      "cell_type": "code",
      "metadata": {
        "id": "H2OoRf-uprCt"
      },
      "source": [
        "def finder(arr1,arr2):\n",
        "  arr1.sort()\n",
        "  arr2.sort()\n",
        "  print(list(zip(arr1,arr2)))\n",
        "  for num1, num2 in zip(arr1,arr2):\n",
        "    if num1 != num2:\n",
        "      return num1\n",
        "  return arr1[-1]\n"
      ],
      "execution_count": 11,
      "outputs": []
    },
    {
      "cell_type": "code",
      "metadata": {
        "colab": {
          "base_uri": "https://localhost:8080/"
        },
        "id": "rW0mrrslqQQ5",
        "outputId": "b3c4c240-cb33-4347-d6c0-df6653726f5a"
      },
      "source": [
        "arr1= [1,2,3,4,5,6,7]\n",
        "arr2= [3,7,2,1,4,6]\n",
        "finder(arr1,arr2)\n"
      ],
      "execution_count": 14,
      "outputs": [
        {
          "output_type": "stream",
          "text": [
            "[(1, 1), (2, 2), (3, 3), (4, 4), (5, 6), (6, 7)]\n"
          ],
          "name": "stdout"
        },
        {
          "output_type": "execute_result",
          "data": {
            "text/plain": [
              "5"
            ]
          },
          "metadata": {
            "tags": []
          },
          "execution_count": 14
        }
      ]
    },
    {
      "cell_type": "code",
      "metadata": {
        "colab": {
          "base_uri": "https://localhost:8080/"
        },
        "id": "UYwLD2mEqYYN",
        "outputId": "c98a2931-5606-493d-d757-475e4c6d5d48"
      },
      "source": [
        "arr1= [1,2,3,4,5,6,7]\n",
        "arr2= [3,7,2,5,4,6]\n",
        "finder(arr1,arr2)"
      ],
      "execution_count": 15,
      "outputs": [
        {
          "output_type": "stream",
          "text": [
            "[(1, 2), (2, 3), (3, 4), (4, 5), (5, 6), (6, 7)]\n"
          ],
          "name": "stdout"
        },
        {
          "output_type": "execute_result",
          "data": {
            "text/plain": [
              "1"
            ]
          },
          "metadata": {
            "tags": []
          },
          "execution_count": 15
        }
      ]
    },
    {
      "cell_type": "code",
      "metadata": {
        "colab": {
          "base_uri": "https://localhost:8080/"
        },
        "id": "qWnFVnTuqdbs",
        "outputId": "dc4848d6-b796-4f6c-e926-101a3763eb3d"
      },
      "source": [
        "arr1= [1,2,3,4,5,6,7]\n",
        "arr2= [3,7,2,4,6]\n",
        "finder(arr1,arr2)"
      ],
      "execution_count": 16,
      "outputs": [
        {
          "output_type": "stream",
          "text": [
            "[(1, 2), (2, 3), (3, 4), (4, 6), (5, 7)]\n"
          ],
          "name": "stdout"
        },
        {
          "output_type": "execute_result",
          "data": {
            "text/plain": [
              "1"
            ]
          },
          "metadata": {
            "tags": []
          },
          "execution_count": 16
        }
      ]
    },
    {
      "cell_type": "markdown",
      "metadata": {
        "id": "QDUw23qEzSW0"
      },
      "source": [
        "Now the Above code returns the first unmatched element. Now What about all the missing elements ? Even though we can modify the above code to handle the same but let's see another approach where we can review few concepts like \n",
        "1. Collections\n",
        "2. Default Dictionary\n"
      ]
    },
    {
      "cell_type": "code",
      "metadata": {
        "id": "nOpsPLDKrpnQ"
      },
      "source": [
        "import collections"
      ],
      "execution_count": 17,
      "outputs": []
    },
    {
      "cell_type": "code",
      "metadata": {
        "id": "C69akCAqsKMQ"
      },
      "source": [
        "def finder_upgrade(arr1,arr2):\n",
        "  d = collections.defaultdict(int)\n",
        "  for num in arr2:\n",
        "    d[num] +=1\n",
        "  print(d)\n",
        "  for num in arr1:\n",
        "    d[num] -=1\n",
        "    # if d[num] ==0:\n",
        "    #   pass\n",
        "    # else:\n",
        "    #   d[num] -=1\n",
        "  print([k for k,v in d.items() if v < 0])\n",
        "  #print(f'The Missing numbers are {d.values() }')"
      ],
      "execution_count": 50,
      "outputs": []
    },
    {
      "cell_type": "code",
      "metadata": {
        "colab": {
          "base_uri": "https://localhost:8080/"
        },
        "id": "y8izuc1CsyjV",
        "outputId": "75a5702c-6ac0-4d01-8f34-4d1d9166eaed"
      },
      "source": [
        "arr1= [1,2,3,4,5,6,7]\n",
        "arr2= [3,7,2,4,6]\n",
        "finder_upgrade(arr1,arr2)"
      ],
      "execution_count": 51,
      "outputs": [
        {
          "output_type": "stream",
          "text": [
            "defaultdict(<class 'int'>, {3: 1, 7: 1, 2: 1, 4: 1, 6: 1})\n",
            "[1, 5]\n"
          ],
          "name": "stdout"
        }
      ]
    },
    {
      "cell_type": "code",
      "metadata": {
        "id": "qTu406cds2kQ"
      },
      "source": [
        ""
      ],
      "execution_count": null,
      "outputs": []
    }
  ]
}