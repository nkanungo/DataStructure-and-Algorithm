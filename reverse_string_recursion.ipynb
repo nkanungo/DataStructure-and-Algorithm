{
  "nbformat": 4,
  "nbformat_minor": 0,
  "metadata": {
    "colab": {
      "name": "reverse_string_recursion.ipynb",
      "provenance": [],
      "authorship_tag": "ABX9TyPUuoYLxNhpxKolfDzC9R0L",
      "include_colab_link": true
    },
    "kernelspec": {
      "name": "python3",
      "display_name": "Python 3"
    },
    "language_info": {
      "name": "python"
    }
  },
  "cells": [
    {
      "cell_type": "markdown",
      "metadata": {
        "id": "view-in-github",
        "colab_type": "text"
      },
      "source": [
        "<a href=\"https://colab.research.google.com/github/nkanungo/DataStructure-and-Algorithm/blob/main/reverse_string_recursion.ipynb\" target=\"_parent\"><img src=\"https://colab.research.google.com/assets/colab-badge.svg\" alt=\"Open In Colab\"/></a>"
      ]
    },
    {
      "cell_type": "code",
      "metadata": {
        "id": "m5CVUOyVnVVZ"
      },
      "source": [
        "def reverse(s):\n",
        "  \n",
        "  if bool(len(s) ) and len(s) == 1:\n",
        "    return s\n",
        "  return s[-1] + reverse(s[0:-1])\n",
        " "
      ],
      "execution_count": 7,
      "outputs": []
    },
    {
      "cell_type": "code",
      "metadata": {
        "id": "a91QfvsIst55"
      },
      "source": [
        "def reverse(s):\n",
        "  \n",
        "  if bool(len(s) ) and len(s) == 1:\n",
        "    return s\n",
        "  return reverse(s[1:]) + s[0]"
      ],
      "execution_count": 9,
      "outputs": []
    },
    {
      "cell_type": "code",
      "metadata": {
        "colab": {
          "base_uri": "https://localhost:8080/",
          "height": 35
        },
        "id": "v9fvM1AusDTL",
        "outputId": "cf106e38-a4e3-4f40-8143-cc7f4d39d315"
      },
      "source": [
        "reverse('Hello World')"
      ],
      "execution_count": 10,
      "outputs": [
        {
          "output_type": "execute_result",
          "data": {
            "application/vnd.google.colaboratory.intrinsic+json": {
              "type": "string"
            },
            "text/plain": [
              "'dlroW olleH'"
            ]
          },
          "metadata": {
            "tags": []
          },
          "execution_count": 10
        }
      ]
    },
    {
      "cell_type": "code",
      "metadata": {
        "id": "WnUVJIQcsJWN"
      },
      "source": [
        ""
      ],
      "execution_count": null,
      "outputs": []
    }
  ]
}