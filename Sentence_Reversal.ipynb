{
  "nbformat": 4,
  "nbformat_minor": 0,
  "metadata": {
    "colab": {
      "name": "Sentence Reversal.ipynb",
      "provenance": [],
      "collapsed_sections": [],
      "authorship_tag": "ABX9TyOxEJAy+PJliekHOtrEQ3pz",
      "include_colab_link": true
    },
    "kernelspec": {
      "name": "python3",
      "display_name": "Python 3"
    },
    "language_info": {
      "name": "python"
    }
  },
  "cells": [
    {
      "cell_type": "markdown",
      "metadata": {
        "id": "view-in-github",
        "colab_type": "text"
      },
      "source": [
        "<a href=\"https://colab.research.google.com/github/nkanungo/DataStructure-and-Algorithm/blob/main/Sentence_Reversal.ipynb\" target=\"_parent\"><img src=\"https://colab.research.google.com/assets/colab-badge.svg\" alt=\"Open In Colab\"/></a>"
      ]
    },
    {
      "cell_type": "markdown",
      "metadata": {
        "id": "n75G7rHV9bUh"
      },
      "source": [
        "This is a simple Task and the intenstion behind having it here is to understand various operations that can be done using Arrays. \n",
        "Some time we may encounter these kind of tasks and if we practice this will come handy and time saver.\n",
        "\n",
        "This function below reverse the strng as in the last word comes first in the string and the first word comes last"
      ]
    },
    {
      "cell_type": "code",
      "metadata": {
        "id": "-PPtW0JA8uc2"
      },
      "source": [
        "def reverse_string(str):\n",
        "  str= str.strip()\n",
        "  word_list = []\n",
        "  word=''\n",
        "  for char in str:\n",
        "    word = word+char\n",
        "    if char==' ':\n",
        "      word_list.append(word)\n",
        "      word=''\n",
        "  word_list.append(word)\n",
        "  print(word_list)\n",
        "  new_sentence=''\n",
        "  for word in word_list[::-1]:\n",
        "    new_sentence = new_sentence + ' ' + word\n",
        "  return new_sentence\n"
      ],
      "execution_count": 22,
      "outputs": []
    },
    {
      "cell_type": "code",
      "metadata": {
        "colab": {
          "base_uri": "https://localhost:8080/",
          "height": 53
        },
        "id": "YxmReHRD9UjW",
        "outputId": "8ec879e1-4e85-42a6-cb42-a0560a11da9d"
      },
      "source": [
        "str=' How are you'\n",
        "reverse_string(str)"
      ],
      "execution_count": 23,
      "outputs": [
        {
          "output_type": "stream",
          "text": [
            "['How ', 'are ', 'you']\n"
          ],
          "name": "stdout"
        },
        {
          "output_type": "execute_result",
          "data": {
            "application/vnd.google.colaboratory.intrinsic+json": {
              "type": "string"
            },
            "text/plain": [
              "' you are  How '"
            ]
          },
          "metadata": {
            "tags": []
          },
          "execution_count": 23
        }
      ]
    },
    {
      "cell_type": "markdown",
      "metadata": {
        "id": "ruIGCntWUuc9"
      },
      "source": [
        "Another Way of doing by completely eliminating the Benefits"
      ]
    },
    {
      "cell_type": "code",
      "metadata": {
        "id": "2LHi1NCTUzNY"
      },
      "source": [
        "def reverse_string(str):\n",
        "  str= str.strip()\n",
        "  word_list = []\n",
        "  word=''\n",
        "  for char in str:\n",
        "    word = word+char\n",
        "    if char==' ':\n",
        "      word_list.append(word)\n",
        "      word=''\n",
        "  word_list.append(word)\n",
        "  print(word_list)\n",
        "  new_sentence=''\n",
        "  counter = len(word_list)\n",
        "  while bool(counter):\n",
        "    counter -=1\n",
        "    new_sentence = new_sentence + ' '+ word_list[counter]\n",
        "  return 'Reversed sentence is', new_sentence\n"
      ],
      "execution_count": 53,
      "outputs": []
    },
    {
      "cell_type": "code",
      "metadata": {
        "colab": {
          "base_uri": "https://localhost:8080/"
        },
        "id": "2yEcETHfVeyn",
        "outputId": "830ca514-bda6-4ce5-d6aa-4620cad87f8f"
      },
      "source": [
        "str=' How are you'\n",
        "reverse_string(str)"
      ],
      "execution_count": 51,
      "outputs": [
        {
          "output_type": "stream",
          "text": [
            "['How ', 'are ', 'you']\n"
          ],
          "name": "stdout"
        },
        {
          "output_type": "execute_result",
          "data": {
            "text/plain": [
              "('Reversed sentence is', ' you are  How ')"
            ]
          },
          "metadata": {
            "tags": []
          },
          "execution_count": 51
        }
      ]
    },
    {
      "cell_type": "markdown",
      "metadata": {
        "id": "RXARV8ScONmZ"
      },
      "source": [
        "# Pythonish Way "
      ]
    },
    {
      "cell_type": "code",
      "metadata": {
        "id": "dORziLO1OZkl"
      },
      "source": [
        "def rev_string1(str):\n",
        "  return \" \".join(reversed(str.split()))"
      ],
      "execution_count": 26,
      "outputs": []
    },
    {
      "cell_type": "code",
      "metadata": {
        "colab": {
          "base_uri": "https://localhost:8080/",
          "height": 35
        },
        "id": "trjJr9-QOiIB",
        "outputId": "bf57b16c-8223-4d4a-d82b-7c94a1f23dc9"
      },
      "source": [
        "str=' How are you'\n",
        "rev_string1(str)"
      ],
      "execution_count": 27,
      "outputs": [
        {
          "output_type": "execute_result",
          "data": {
            "application/vnd.google.colaboratory.intrinsic+json": {
              "type": "string"
            },
            "text/plain": [
              "'you are How'"
            ]
          },
          "metadata": {
            "tags": []
          },
          "execution_count": 27
        }
      ]
    },
    {
      "cell_type": "code",
      "metadata": {
        "id": "-CC0chsGOt2_"
      },
      "source": [
        "def rev_string2(str):\n",
        "  return \" \".join(str.split()[::-1])"
      ],
      "execution_count": 28,
      "outputs": []
    },
    {
      "cell_type": "code",
      "metadata": {
        "colab": {
          "base_uri": "https://localhost:8080/",
          "height": 35
        },
        "id": "FUPojli8O57A",
        "outputId": "dd5fd498-0da3-417b-8293-ae552549c1fa"
      },
      "source": [
        "str=' How are you'\n",
        "rev_string2(str)"
      ],
      "execution_count": 29,
      "outputs": [
        {
          "output_type": "execute_result",
          "data": {
            "application/vnd.google.colaboratory.intrinsic+json": {
              "type": "string"
            },
            "text/plain": [
              "'you are How'"
            ]
          },
          "metadata": {
            "tags": []
          },
          "execution_count": 29
        }
      ]
    },
    {
      "cell_type": "markdown",
      "metadata": {
        "id": "mNj_QqD69WoP"
      },
      "source": [
        "Nihar Kanungo\n",
        "\n",
        "nihar.kanungo@gmail.com\n"
      ]
    },
    {
      "cell_type": "code",
      "metadata": {
        "colab": {
          "base_uri": "https://localhost:8080/"
        },
        "id": "mxEK62U_SF5-",
        "outputId": "dd908066-1a15-4e1b-9861-556c202b04eb"
      },
      "source": [
        "s= ['How', 'are', 'You']\n",
        "i= len(s)\n",
        "new_str=''\n",
        "while bool(i):\n",
        "  i-=1\n",
        "  new_str = new_str + ' ' + s[i]\n",
        "  \n",
        "print(new_str)"
      ],
      "execution_count": 42,
      "outputs": [
        {
          "output_type": "stream",
          "text": [
            " You are How\n"
          ],
          "name": "stdout"
        }
      ]
    },
    {
      "cell_type": "code",
      "metadata": {
        "id": "UnR6MBN6SLz4"
      },
      "source": [
        ""
      ],
      "execution_count": null,
      "outputs": []
    }
  ]
}