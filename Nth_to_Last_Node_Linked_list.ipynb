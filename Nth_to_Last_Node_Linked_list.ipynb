{
  "nbformat": 4,
  "nbformat_minor": 0,
  "metadata": {
    "colab": {
      "name": "Nth to Last Node Linked list.ipynb",
      "provenance": [],
      "authorship_tag": "ABX9TyNidihkfDH79yXLufpYZKUV",
      "include_colab_link": true
    },
    "kernelspec": {
      "name": "python3",
      "display_name": "Python 3"
    },
    "language_info": {
      "name": "python"
    }
  },
  "cells": [
    {
      "cell_type": "markdown",
      "metadata": {
        "id": "view-in-github",
        "colab_type": "text"
      },
      "source": [
        "<a href=\"https://colab.research.google.com/github/nkanungo/DataStructure-and-Algorithm/blob/main/Nth_to_Last_Node_Linked_list.ipynb\" target=\"_parent\"><img src=\"https://colab.research.google.com/assets/colab-badge.svg\" alt=\"Open In Colab\"/></a>"
      ]
    },
    {
      "cell_type": "markdown",
      "metadata": {
        "id": "Tq-amklKlgmY"
      },
      "source": [
        "# Nth to Last Node Interview Setting \n"
      ]
    },
    {
      "cell_type": "code",
      "metadata": {
        "id": "5igiGjcMnWZh"
      },
      "source": [
        "class Node(object):\n",
        "  def __init__(self,value):\n",
        "    self.value = value\n",
        "    self.nextnode = None "
      ],
      "execution_count": null,
      "outputs": []
    },
    {
      "cell_type": "markdown",
      "metadata": {
        "id": "Dvxaki87HN4c"
      },
      "source": [
        "# Logic \n",
        "--------\n",
        "Reverse a Linked list\n",
        "Start traversing from new head until the defined n"
      ]
    },
    {
      "cell_type": "code",
      "metadata": {
        "id": "RxTBehnPniu-"
      },
      "source": [
        "def nth_to_last_node(n,head):\n",
        "  current_node = head\n",
        "  next_node = None\n",
        "  previous_node = None\n",
        "\n",
        "  while current_node:\n",
        "    next_node  = current_node.nextnode\n",
        "    current_node.nextnode = previous_node\n",
        "    previous_node = current_node\n",
        "    current_node = next_node\n",
        "    \n",
        "  for i in range(n-1):\n",
        "    previous_node = previous_node .nextnode\n",
        "  return previous_node"
      ],
      "execution_count": null,
      "outputs": []
    },
    {
      "cell_type": "code",
      "metadata": {
        "colab": {
          "base_uri": "https://localhost:8080/"
        },
        "id": "_b47MI1byhhv",
        "outputId": "fdb42dac-b3af-4ae5-b755-20335c0db38f"
      },
      "source": [
        "nth_to_last_node(3,a)"
      ],
      "execution_count": null,
      "outputs": [
        {
          "output_type": "execute_result",
          "data": {
            "text/plain": [
              "2"
            ]
          },
          "metadata": {
            "tags": []
          },
          "execution_count": 50
        }
      ]
    },
    {
      "cell_type": "code",
      "metadata": {
        "colab": {
          "base_uri": "https://localhost:8080/"
        },
        "id": "h978Kvnw9AKa",
        "outputId": "0ea8c68c-6a0c-4192-8c0e-06598d5f02f6"
      },
      "source": [
        "!pip install nose"
      ],
      "execution_count": null,
      "outputs": [
        {
          "output_type": "stream",
          "text": [
            "Collecting nose\n",
            "\u001b[?25l  Downloading https://files.pythonhosted.org/packages/15/d8/dd071918c040f50fa1cf80da16423af51ff8ce4a0f2399b7bf8de45ac3d9/nose-1.3.7-py3-none-any.whl (154kB)\n",
            "\r\u001b[K     |██▏                             | 10kB 13.9MB/s eta 0:00:01\r\u001b[K     |████▎                           | 20kB 19.4MB/s eta 0:00:01\r\u001b[K     |██████▍                         | 30kB 23.8MB/s eta 0:00:01\r\u001b[K     |████████▌                       | 40kB 25.8MB/s eta 0:00:01\r\u001b[K     |██████████▋                     | 51kB 27.9MB/s eta 0:00:01\r\u001b[K     |████████████▊                   | 61kB 29.1MB/s eta 0:00:01\r\u001b[K     |██████████████▉                 | 71kB 30.0MB/s eta 0:00:01\r\u001b[K     |█████████████████               | 81kB 29.9MB/s eta 0:00:01\r\u001b[K     |███████████████████             | 92kB 29.5MB/s eta 0:00:01\r\u001b[K     |█████████████████████▏          | 102kB 30.8MB/s eta 0:00:01\r\u001b[K     |███████████████████████▎        | 112kB 30.8MB/s eta 0:00:01\r\u001b[K     |█████████████████████████▍      | 122kB 30.8MB/s eta 0:00:01\r\u001b[K     |███████████████████████████▌    | 133kB 30.8MB/s eta 0:00:01\r\u001b[K     |█████████████████████████████▋  | 143kB 30.8MB/s eta 0:00:01\r\u001b[K     |███████████████████████████████▊| 153kB 30.8MB/s eta 0:00:01\r\u001b[K     |████████████████████████████████| 163kB 30.8MB/s \n",
            "\u001b[?25hInstalling collected packages: nose\n",
            "Successfully installed nose-1.3.7\n"
          ],
          "name": "stdout"
        }
      ]
    },
    {
      "cell_type": "code",
      "metadata": {
        "colab": {
          "base_uri": "https://localhost:8080/"
        },
        "id": "CrVmMAtQzLdQ",
        "outputId": "f72b70ed-3a6f-4a66-ca3a-1308fb0e0bd6"
      },
      "source": [
        "'''\n",
        "\n",
        "RUN THIS CELL TO TEST YOUR SOLUTION AGAINST A TEST CASE \n",
        "\n",
        "PLEASE NOTE THIS IS JUST ONE CASE\n",
        "\n",
        "'''\n",
        "from nose.tools import assert_equal\n",
        "\n",
        "a = Node(1)\n",
        "b = Node(2)\n",
        "c = Node(3)\n",
        "d = Node(4)\n",
        "e = Node(5)\n",
        "\n",
        "a.nextnode = b\n",
        "b.nextnode = c\n",
        "c.nextnode = d\n",
        "d.nextnode = e\n",
        "\n",
        "####\n",
        "\n",
        "class TestNLast(object):\n",
        "    \n",
        "    def test(self,sol):\n",
        "        \n",
        "        assert_equal(sol(2,a),d)\n",
        "        print ('ALL TEST CASES PASSED')\n",
        "        \n",
        "# Run tests\n",
        "t = TestNLast()\n",
        "t.test(nth_to_last_node)"
      ],
      "execution_count": null,
      "outputs": [
        {
          "output_type": "stream",
          "text": [
            "ALL TEST CASES PASSED\n"
          ],
          "name": "stdout"
        }
      ]
    },
    {
      "cell_type": "markdown",
      "metadata": {
        "id": "_tqR8p5vHa_J"
      },
      "source": [
        "# Another way without Reversing the List\n",
        "\n",
        "Logic\n",
        "------\n",
        "1. First advance one node (fast) the number of times n is provided\n",
        "2. Then advance each node one by one until the end of the list\n",
        "3. The slow list will stop n steps before the end of the list\n"
      ]
    },
    {
      "cell_type": "code",
      "metadata": {
        "id": "btI1F9SG8788"
      },
      "source": [
        "def nth_to_last_node(n, head):\n",
        "    slow, fast = head, head\n",
        "    while n > 0 and fast:\n",
        "        fast=fast.nextnode\n",
        "        n-=1\n",
        "    if not fast:\n",
        "        return head\n",
        "    while fast:\n",
        "        fast=fast.nextnode\n",
        "        slow=slow.nextnode\n",
        "    return slow\n",
        "    pass"
      ],
      "execution_count": null,
      "outputs": []
    }
  ]
}