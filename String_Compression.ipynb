{
  "nbformat": 4,
  "nbformat_minor": 0,
  "metadata": {
    "colab": {
      "name": "String Compression.ipynb",
      "provenance": [],
      "collapsed_sections": [],
      "authorship_tag": "ABX9TyPHSGBRa6jF7cEWGRIxN5Y4",
      "include_colab_link": true
    },
    "kernelspec": {
      "name": "python3",
      "display_name": "Python 3"
    },
    "language_info": {
      "name": "python"
    }
  },
  "cells": [
    {
      "cell_type": "markdown",
      "metadata": {
        "id": "view-in-github",
        "colab_type": "text"
      },
      "source": [
        "<a href=\"https://colab.research.google.com/github/nkanungo/DataStructure-and-Algorithm/blob/main/String_Compression.ipynb\" target=\"_parent\"><img src=\"https://colab.research.google.com/assets/colab-badge.svg\" alt=\"Open In Colab\"/></a>"
      ]
    },
    {
      "cell_type": "markdown",
      "metadata": {
        "id": "uCSUan7Nw-RG"
      },
      "source": [
        "This is a simple algorithm which counts the number of time a letter appears in the string and updates the letter along with the count for each letter "
      ]
    },
    {
      "cell_type": "code",
      "metadata": {
        "id": "O6NWvpGI3FoT"
      },
      "source": [
        "def string_compression(str1):\n",
        "  list1 = []\n",
        "  count=1\n",
        "  s_prev= str1[0]\n",
        "  new_str=''\n",
        "  for s in str1[1:]:\n",
        "    #print(s,s_prev)\n",
        "    if s== s_prev:\n",
        "      count +=1\n",
        "      s_prev=s\n",
        "      \n",
        "    else:\n",
        "      new_str = new_str + s_prev+str(count)\n",
        "      count=1\n",
        "      s_prev=s\n",
        "  new_str = new_str + s_prev+str(count)\n",
        "  return new_str\n",
        "  \n"
      ],
      "execution_count": 23,
      "outputs": []
    },
    {
      "cell_type": "code",
      "metadata": {
        "colab": {
          "base_uri": "https://localhost:8080/",
          "height": 35
        },
        "id": "p0pdcNL2oLm9",
        "outputId": "2fbc49e6-1f0c-4c13-94cc-1708c5e2af46"
      },
      "source": [
        "str1 = 'AAAABBBBCCCCCDDEEEE'\n",
        "string_compression(str1)"
      ],
      "execution_count": 24,
      "outputs": [
        {
          "output_type": "execute_result",
          "data": {
            "application/vnd.google.colaboratory.intrinsic+json": {
              "type": "string"
            },
            "text/plain": [
              "'A4B4C5D2E4'"
            ]
          },
          "metadata": {
            "tags": []
          },
          "execution_count": 24
        }
      ]
    },
    {
      "cell_type": "code",
      "metadata": {
        "colab": {
          "base_uri": "https://localhost:8080/",
          "height": 35
        },
        "id": "Wfp4Fr0_oYzx",
        "outputId": "629e3f1c-80a3-420a-a54f-5599cf5d506a"
      },
      "source": [
        "str1 = 'AAAABBBBCCCCCDDEEEEaaaa'\n",
        "string_compression(str1)"
      ],
      "execution_count": 25,
      "outputs": [
        {
          "output_type": "execute_result",
          "data": {
            "application/vnd.google.colaboratory.intrinsic+json": {
              "type": "string"
            },
            "text/plain": [
              "'A4B4C5D2E4a4'"
            ]
          },
          "metadata": {
            "tags": []
          },
          "execution_count": 25
        }
      ]
    },
    {
      "cell_type": "code",
      "metadata": {
        "id": "leSdNJK0q65X"
      },
      "source": [
        ""
      ],
      "execution_count": 21,
      "outputs": []
    },
    {
      "cell_type": "code",
      "metadata": {
        "colab": {
          "base_uri": "https://localhost:8080/",
          "height": 35
        },
        "id": "MWU2qaJCv3ua",
        "outputId": "ea7c59a9-688b-44f7-fb04-3f48f1c42fbb"
      },
      "source": [
        "str1 = 'AAAABBBBCCCCCDDEEEEaaaa'\n",
        "string_compression(str1)"
      ],
      "execution_count": 22,
      "outputs": [
        {
          "output_type": "execute_result",
          "data": {
            "application/vnd.google.colaboratory.intrinsic+json": {
              "type": "string"
            },
            "text/plain": [
              "'A4B4C5D2E4a4'"
            ]
          },
          "metadata": {
            "tags": []
          },
          "execution_count": 22
        }
      ]
    },
    {
      "cell_type": "code",
      "metadata": {
        "id": "lH8vDYUVv_Sm"
      },
      "source": [
        ""
      ],
      "execution_count": null,
      "outputs": []
    }
  ]
}