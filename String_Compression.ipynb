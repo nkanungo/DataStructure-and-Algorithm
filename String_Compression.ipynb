{
  "nbformat": 4,
  "nbformat_minor": 0,
  "metadata": {
    "colab": {
      "name": "String Compression.ipynb",
      "provenance": [],
      "collapsed_sections": [],
      "authorship_tag": "ABX9TyNFLQzyMq/f4mWlKLDhyfta",
      "include_colab_link": true
    },
    "kernelspec": {
      "name": "python3",
      "display_name": "Python 3"
    },
    "language_info": {
      "name": "python"
    }
  },
  "cells": [
    {
      "cell_type": "markdown",
      "metadata": {
        "id": "view-in-github",
        "colab_type": "text"
      },
      "source": [
        "<a href=\"https://colab.research.google.com/github/nkanungo/DataStructure-and-Algorithm/blob/main/String_Compression.ipynb\" target=\"_parent\"><img src=\"https://colab.research.google.com/assets/colab-badge.svg\" alt=\"Open In Colab\"/></a>"
      ]
    },
    {
      "cell_type": "markdown",
      "metadata": {
        "id": "uCSUan7Nw-RG"
      },
      "source": [
        "This is a simple algorithm which counts the number of time a letter appears in the string and updates the letter along with the count for each letter "
      ]
    },
    {
      "cell_type": "code",
      "metadata": {
        "id": "O6NWvpGI3FoT"
      },
      "source": [
        "def string_compression(str1):\n",
        "  if len(str1) == 0:\n",
        "    return \n",
        "  if len(str1) ==1:\n",
        "    return str1+ \"1\"\n",
        "  count=1\n",
        "  s_prev= str1[0]\n",
        "  new_str=''\n",
        "  for s in str1[1:]:\n",
        "    #print(s,s_prev)\n",
        "    if s== s_prev:\n",
        "      count +=1\n",
        "      s_prev=s\n",
        "      \n",
        "    else:\n",
        "      new_str = new_str + s_prev+str(count)\n",
        "      count=1\n",
        "      s_prev=s\n",
        "  new_str = new_str + s_prev+str(count)\n",
        "  return new_str\n",
        "  \n"
      ],
      "execution_count": 26,
      "outputs": []
    },
    {
      "cell_type": "code",
      "metadata": {
        "colab": {
          "base_uri": "https://localhost:8080/",
          "height": 35
        },
        "id": "p0pdcNL2oLm9",
        "outputId": "0ee6686a-0f2b-404a-81ad-092c7432d21c"
      },
      "source": [
        "str1 = 'AAAABBBBCCCCCDDEEEE'\n",
        "string_compression(str1)"
      ],
      "execution_count": 27,
      "outputs": [
        {
          "output_type": "execute_result",
          "data": {
            "application/vnd.google.colaboratory.intrinsic+json": {
              "type": "string"
            },
            "text/plain": [
              "'A4B4C5D2E4'"
            ]
          },
          "metadata": {
            "tags": []
          },
          "execution_count": 27
        }
      ]
    },
    {
      "cell_type": "code",
      "metadata": {
        "colab": {
          "base_uri": "https://localhost:8080/",
          "height": 35
        },
        "id": "Wfp4Fr0_oYzx",
        "outputId": "1901e176-c568-4f72-8b7c-eaa9175e47f1"
      },
      "source": [
        "str1 = 'AAAABBBBCCCCCDDEEEEaaaa'\n",
        "string_compression(str1)"
      ],
      "execution_count": 28,
      "outputs": [
        {
          "output_type": "execute_result",
          "data": {
            "application/vnd.google.colaboratory.intrinsic+json": {
              "type": "string"
            },
            "text/plain": [
              "'A4B4C5D2E4a4'"
            ]
          },
          "metadata": {
            "tags": []
          },
          "execution_count": 28
        }
      ]
    },
    {
      "cell_type": "code",
      "metadata": {
        "colab": {
          "base_uri": "https://localhost:8080/",
          "height": 35
        },
        "id": "leSdNJK0q65X",
        "outputId": "7f852e4c-c924-4bb0-eb3c-4645cb2687c1"
      },
      "source": [
        "str1 = 'A'\n",
        "string_compression(str1)"
      ],
      "execution_count": 29,
      "outputs": [
        {
          "output_type": "execute_result",
          "data": {
            "application/vnd.google.colaboratory.intrinsic+json": {
              "type": "string"
            },
            "text/plain": [
              "'A1'"
            ]
          },
          "metadata": {
            "tags": []
          },
          "execution_count": 29
        }
      ]
    },
    {
      "cell_type": "code",
      "metadata": {
        "id": "MWU2qaJCv3ua"
      },
      "source": [
        "str1 = ''\n",
        "string_compression(str1)"
      ],
      "execution_count": 30,
      "outputs": []
    },
    {
      "cell_type": "code",
      "metadata": {
        "id": "lH8vDYUVv_Sm"
      },
      "source": [
        ""
      ],
      "execution_count": null,
      "outputs": []
    }
  ]
}